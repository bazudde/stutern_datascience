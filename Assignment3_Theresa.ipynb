{
 "cells": [
  {
   "cell_type": "markdown",
   "id": "77f4a280-fb5e-4535-ae04-f116ca566f79",
   "metadata": {
    "id": "77f4a280-fb5e-4535-ae04-f116ca566f79"
   },
   "source": [
    "# Assignment 3 (Week 3)\n",
    "\n",
    "\n",
    "## Name: Theresa Louise Bazudde"
   ]
  },
  {
   "cell_type": "code",
   "execution_count": 1,
   "id": "a7a60f1b-ee28-45be-a1b4-568201bde067",
   "metadata": {
    "id": "a7a60f1b-ee28-45be-a1b4-568201bde067"
   },
   "outputs": [],
   "source": [
    "# Standard imports\n",
    "import numpy as np\n",
    "import pandas as pd\n",
    "\n",
    "# pandas settings\n",
    "pd.options.display.max_rows = 1_000\n",
    "pd.options.display.max_columns = 1_000\n",
    "pd.options.display.max_colwidth = 1_000\n"
   ]
  },
  {
   "cell_type": "markdown",
   "id": "100cc8ab-1e0a-4aaf-bf44-9ce58045fa9c",
   "metadata": {
    "id": "100cc8ab-1e0a-4aaf-bf44-9ce58045fa9c"
   },
   "source": [
    "# Qs 1"
   ]
  },
  {
   "cell_type": "markdown",
   "id": "4a119fdd",
   "metadata": {},
   "source": [
    "## Part a"
   ]
  },
  {
   "cell_type": "code",
   "execution_count": 2,
   "id": "c1e4e5a9-27b6-4b7f-9aef-1b8c0b88c5ba",
   "metadata": {
    "colab": {
     "base_uri": "https://localhost:8080/"
    },
    "id": "c1e4e5a9-27b6-4b7f-9aef-1b8c0b88c5ba",
    "outputId": "a6df5357-d634-454e-fffe-405cfd956517"
   },
   "outputs": [
    {
     "name": "stdout",
     "output_type": "stream",
     "text": [
      "[ 0.          0.0009999   0.0019996  ... -0.19955634 -0.19984539\n",
      " -0.20013418]\n"
     ]
    }
   ],
   "source": [
    "x = np.linspace(0, 10, 10001)\n",
    "y = print(np.exp(-x/10)*np.sin(x))"
   ]
  },
  {
   "cell_type": "markdown",
   "id": "2f8132f1",
   "metadata": {},
   "source": [
    "## Part b"
   ]
  },
  {
   "cell_type": "code",
   "execution_count": 3,
   "id": "e80589ec-3822-4962-adad-3739791864db",
   "metadata": {
    "colab": {
     "base_uri": "https://localhost:8080/"
    },
    "id": "e80589ec-3822-4962-adad-3739791864db",
    "outputId": "eac5a18e-a45c-4bca-cd1d-8b049ba5e52b"
   },
   "outputs": [
    {
     "name": "stdout",
     "output_type": "stream",
     "text": [
      "[ 1.78760303e-11  1.78724550e-11  1.78688798e-11 ... -1.78688799e-11\n",
      " -1.78724550e-11 -1.78760303e-11]\n"
     ]
    }
   ],
   "source": [
    "rng = np.random.default_rng(seed=5)\n",
    "X = rng.random(size=(35, 2), dtype=np.float32)\n",
    "y = rng.random(size=(35, 1), dtype=np.float32)\n",
    "\n",
    "#calculating means\n",
    "x_mean = np.mean(x)\n",
    "y_mean = np.mean(y)\n",
    "\n",
    "#numerator\n",
    "numerator = sum((x-x_mean)*(y-y_mean))\n",
    "#denominator\n",
    "denominator = sum((x-x_mean)**2)\n",
    "\n",
    "result = print(numerator/denominator)"
   ]
  },
  {
   "cell_type": "markdown",
   "id": "c78306bb-2e4f-494b-ac9a-85ecdb4ae08c",
   "metadata": {
    "id": "c78306bb-2e4f-494b-ac9a-85ecdb4ae08c"
   },
   "source": [
    "# Qs 2"
   ]
  },
  {
   "cell_type": "markdown",
   "id": "cc432524",
   "metadata": {},
   "source": [
    "## Part a"
   ]
  },
  {
   "cell_type": "code",
   "execution_count": 4,
   "id": "2908a987-0078-4bb3-9b0d-4d9abb9a49ad",
   "metadata": {
    "colab": {
     "base_uri": "https://localhost:8080/"
    },
    "id": "2908a987-0078-4bb3-9b0d-4d9abb9a49ad",
    "outputId": "4f3c997f-b2f6-427d-bcf9-e28ba5e302b1",
    "scrolled": true
   },
   "outputs": [
    {
     "name": "stdout",
     "output_type": "stream",
     "text": [
      "Indices of x are: (array([1], dtype=int64), array([0], dtype=int64), array([1], dtype=int64), array([1], dtype=int64))\n"
     ]
    }
   ],
   "source": [
    "rng = np.random.default_rng(seed=5)\n",
    "X = rng.random(size=(16, 3), dtype=np.float32).reshape(2, 4, 2, 3)\n",
    "indices = np.where(X == 0.1777215)\n",
    "print(\"Indices of x are:\", indices)"
   ]
  },
  {
   "cell_type": "markdown",
   "id": "2046d214",
   "metadata": {},
   "source": [
    "## Part b"
   ]
  },
  {
   "cell_type": "code",
   "execution_count": 5,
   "id": "239d86f0-5df7-4eda-81bf-1ea8b773cc36",
   "metadata": {
    "colab": {
     "base_uri": "https://localhost:8080/"
    },
    "id": "239d86f0-5df7-4eda-81bf-1ea8b773cc36",
    "outputId": "54cba909-4eed-4dc8-9bb6-d33132e0e30b"
   },
   "outputs": [
    {
     "name": "stdout",
     "output_type": "stream",
     "text": [
      "Indices of x are: (array([0], dtype=int64), array([0], dtype=int64), array([1], dtype=int64), array([2], dtype=int64))\n"
     ]
    }
   ],
   "source": [
    "rng = np.random.default_rng(seed=5)\n",
    "X = rng.random(size=(16, 3), dtype=np.float32).reshape(2, 4, 2, 3)\n",
    "indices = np.where(X == 0.51532555)\n",
    "print(\"Indices of x are:\", indices)"
   ]
  },
  {
   "cell_type": "markdown",
   "id": "2f1a8c9e-09ca-4503-a853-4fe7cf326025",
   "metadata": {
    "id": "2f1a8c9e-09ca-4503-a853-4fe7cf326025"
   },
   "source": [
    "# Qs 3"
   ]
  },
  {
   "cell_type": "code",
   "execution_count": 6,
   "id": "f350902b",
   "metadata": {},
   "outputs": [
    {
     "data": {
      "text/plain": [
       "Index(['Age', 'Attrition', 'BusinessTravel', 'DailyRate', 'Department',\n",
       "       'DistanceFromHome', 'Education', 'EducationField', 'EmployeeCount',\n",
       "       'EmployeeNumber', 'JobRole', 'EnvironmentSatisfaction', 'Gender',\n",
       "       'PerformanceRating', 'HourlyRate', 'JobInvolvement', 'JobLevel'],\n",
       "      dtype='object')"
      ]
     },
     "execution_count": 6,
     "metadata": {},
     "output_type": "execute_result"
    }
   ],
   "source": [
    "df = pd.read_csv('HR_Employee_reduced.csv')\n",
    "df.columns"
   ]
  },
  {
   "cell_type": "markdown",
   "id": "41eabd3d",
   "metadata": {
    "id": "e120ec6d-64fc-4c5b-ba03-f65e92f2d24c"
   },
   "source": [
    "## Part a"
   ]
  },
  {
   "cell_type": "code",
   "execution_count": 7,
   "id": "0df00e8e",
   "metadata": {},
   "outputs": [],
   "source": [
    "query = df.loc[(df['Age']>30)&(df['JobRole'].isin(['manager','research director','manufacturing director']))&(df['PerformanceRating']>3)]"
   ]
  },
  {
   "cell_type": "markdown",
   "id": "de7a5e09",
   "metadata": {
    "id": "7181403e-b216-4f14-8ba4-d6a50891c4e1"
   },
   "source": [
    "## Part b"
   ]
  },
  {
   "cell_type": "code",
   "execution_count": 8,
   "id": "65aa651c-c17c-4135-9193-6d0eeeceee74",
   "metadata": {
    "id": "65aa651c-c17c-4135-9193-6d0eeeceee74"
   },
   "outputs": [
    {
     "data": {
      "text/html": [
       "<div>\n",
       "<style scoped>\n",
       "    .dataframe tbody tr th:only-of-type {\n",
       "        vertical-align: middle;\n",
       "    }\n",
       "\n",
       "    .dataframe tbody tr th {\n",
       "        vertical-align: top;\n",
       "    }\n",
       "\n",
       "    .dataframe thead th {\n",
       "        text-align: right;\n",
       "    }\n",
       "</style>\n",
       "<table border=\"1\" class=\"dataframe\">\n",
       "  <thead>\n",
       "    <tr style=\"text-align: right;\">\n",
       "      <th></th>\n",
       "      <th>Age</th>\n",
       "      <th>Attrition</th>\n",
       "      <th>BusinessTravel</th>\n",
       "      <th>DailyRate</th>\n",
       "      <th>Department</th>\n",
       "      <th>DistanceFromHome</th>\n",
       "      <th>Education</th>\n",
       "      <th>EducationField</th>\n",
       "      <th>EmployeeCount</th>\n",
       "      <th>EmployeeNumber</th>\n",
       "      <th>JobRole</th>\n",
       "      <th>EnvironmentSatisfaction</th>\n",
       "      <th>Gender</th>\n",
       "      <th>PerformanceRating</th>\n",
       "      <th>HourlyRate</th>\n",
       "      <th>JobInvolvement</th>\n",
       "      <th>JobLevel</th>\n",
       "      <th>others</th>\n",
       "    </tr>\n",
       "  </thead>\n",
       "  <tbody>\n",
       "    <tr>\n",
       "      <th>0</th>\n",
       "      <td>41</td>\n",
       "      <td>Yes</td>\n",
       "      <td>Travel_Rarely</td>\n",
       "      <td>1102</td>\n",
       "      <td>Sales</td>\n",
       "      <td>1</td>\n",
       "      <td>2</td>\n",
       "      <td>Life Sciences</td>\n",
       "      <td>1</td>\n",
       "      <td>1</td>\n",
       "      <td>Sales Executive</td>\n",
       "      <td>2</td>\n",
       "      <td>Female</td>\n",
       "      <td>3</td>\n",
       "      <td>94</td>\n",
       "      <td>3</td>\n",
       "      <td>2</td>\n",
       "      <td>Life Sciences</td>\n",
       "    </tr>\n",
       "    <tr>\n",
       "      <th>1</th>\n",
       "      <td>49</td>\n",
       "      <td>No</td>\n",
       "      <td>Travel_Frequently</td>\n",
       "      <td>279</td>\n",
       "      <td>Research &amp; Development</td>\n",
       "      <td>8</td>\n",
       "      <td>1</td>\n",
       "      <td>Life Sciences</td>\n",
       "      <td>1</td>\n",
       "      <td>2</td>\n",
       "      <td>Research Scientist</td>\n",
       "      <td>3</td>\n",
       "      <td>Male</td>\n",
       "      <td>4</td>\n",
       "      <td>61</td>\n",
       "      <td>2</td>\n",
       "      <td>2</td>\n",
       "      <td>Life Sciences</td>\n",
       "    </tr>\n",
       "    <tr>\n",
       "      <th>2</th>\n",
       "      <td>37</td>\n",
       "      <td>Yes</td>\n",
       "      <td>Travel_Rarely</td>\n",
       "      <td>1373</td>\n",
       "      <td>Research &amp; Development</td>\n",
       "      <td>2</td>\n",
       "      <td>2</td>\n",
       "      <td>Other</td>\n",
       "      <td>1</td>\n",
       "      <td>4</td>\n",
       "      <td>Laboratory Technician</td>\n",
       "      <td>4</td>\n",
       "      <td>Male</td>\n",
       "      <td>3</td>\n",
       "      <td>92</td>\n",
       "      <td>2</td>\n",
       "      <td>1</td>\n",
       "      <td>Other</td>\n",
       "    </tr>\n",
       "    <tr>\n",
       "      <th>3</th>\n",
       "      <td>33</td>\n",
       "      <td>No</td>\n",
       "      <td>Travel_Frequently</td>\n",
       "      <td>1392</td>\n",
       "      <td>Research &amp; Development</td>\n",
       "      <td>3</td>\n",
       "      <td>4</td>\n",
       "      <td>Life Sciences</td>\n",
       "      <td>1</td>\n",
       "      <td>5</td>\n",
       "      <td>Research Scientist</td>\n",
       "      <td>4</td>\n",
       "      <td>Female</td>\n",
       "      <td>3</td>\n",
       "      <td>56</td>\n",
       "      <td>3</td>\n",
       "      <td>1</td>\n",
       "      <td>Life Sciences</td>\n",
       "    </tr>\n",
       "    <tr>\n",
       "      <th>4</th>\n",
       "      <td>27</td>\n",
       "      <td>No</td>\n",
       "      <td>Travel_Rarely</td>\n",
       "      <td>591</td>\n",
       "      <td>Research &amp; Development</td>\n",
       "      <td>2</td>\n",
       "      <td>1</td>\n",
       "      <td>Medical</td>\n",
       "      <td>1</td>\n",
       "      <td>7</td>\n",
       "      <td>Laboratory Technician</td>\n",
       "      <td>1</td>\n",
       "      <td>Male</td>\n",
       "      <td>3</td>\n",
       "      <td>40</td>\n",
       "      <td>3</td>\n",
       "      <td>1</td>\n",
       "      <td>Medical</td>\n",
       "    </tr>\n",
       "  </tbody>\n",
       "</table>\n",
       "</div>"
      ],
      "text/plain": [
       "   Age Attrition     BusinessTravel  DailyRate              Department  \\\n",
       "0   41       Yes      Travel_Rarely       1102                   Sales   \n",
       "1   49        No  Travel_Frequently        279  Research & Development   \n",
       "2   37       Yes      Travel_Rarely       1373  Research & Development   \n",
       "3   33        No  Travel_Frequently       1392  Research & Development   \n",
       "4   27        No      Travel_Rarely        591  Research & Development   \n",
       "\n",
       "   DistanceFromHome  Education EducationField  EmployeeCount  EmployeeNumber  \\\n",
       "0                 1          2  Life Sciences              1               1   \n",
       "1                 8          1  Life Sciences              1               2   \n",
       "2                 2          2          Other              1               4   \n",
       "3                 3          4  Life Sciences              1               5   \n",
       "4                 2          1        Medical              1               7   \n",
       "\n",
       "                 JobRole  EnvironmentSatisfaction  Gender  PerformanceRating  \\\n",
       "0        Sales Executive                        2  Female                  3   \n",
       "1     Research Scientist                        3    Male                  4   \n",
       "2  Laboratory Technician                        4    Male                  3   \n",
       "3     Research Scientist                        4  Female                  3   \n",
       "4  Laboratory Technician                        1    Male                  3   \n",
       "\n",
       "   HourlyRate  JobInvolvement  JobLevel         others  \n",
       "0          94               3         2  Life Sciences  \n",
       "1          61               2         2  Life Sciences  \n",
       "2          92               2         1          Other  \n",
       "3          56               3         1  Life Sciences  \n",
       "4          40               3         1        Medical  "
      ]
     },
     "execution_count": 8,
     "metadata": {},
     "output_type": "execute_result"
    }
   ],
   "source": [
    "#defining a function to make education_field to new label\n",
    "def create_others(EducationField):\n",
    "    \"\"\"\n",
    "    Given an education field, returns 'others' if the field is 'technical degree', 'other', or 'human resources',\n",
    "    and the input field otherwise.\n",
    "\n",
    "    Args:\n",
    "        EducationField (str): The education field to be processed.\n",
    "\n",
    "    Returns:\n",
    "        str: The processed education field.\n",
    "\n",
    "    Examples:\n",
    "        >>> create_others('technical degree')\n",
    "        'others'\n",
    "        >>> create_others('engineering')\n",
    "        'engineering'\n",
    "    \"\"\"\n",
    "    if EducationField in ['technical degree', 'other', 'human resources']:\n",
    "        return 'others'\n",
    "    else:\n",
    "        return EducationField\n",
    "#applying the function\n",
    "df['others'] = df['EducationField'].apply(create_others)\n",
    "df.head(5)"
   ]
  },
  {
   "cell_type": "markdown",
   "id": "d846d8f1",
   "metadata": {
    "id": "f8651090-63ee-4a7f-bc24-90e5227a6c02"
   },
   "source": [
    "## Part c"
   ]
  },
  {
   "cell_type": "code",
   "execution_count": 9,
   "id": "cd85f1b7",
   "metadata": {},
   "outputs": [
    {
     "data": {
      "text/html": [
       "<div>\n",
       "<style scoped>\n",
       "    .dataframe tbody tr th:only-of-type {\n",
       "        vertical-align: middle;\n",
       "    }\n",
       "\n",
       "    .dataframe tbody tr th {\n",
       "        vertical-align: top;\n",
       "    }\n",
       "\n",
       "    .dataframe thead th {\n",
       "        text-align: right;\n",
       "    }\n",
       "</style>\n",
       "<table border=\"1\" class=\"dataframe\">\n",
       "  <thead>\n",
       "    <tr style=\"text-align: right;\">\n",
       "      <th></th>\n",
       "      <th>Age</th>\n",
       "      <th>DailyRate</th>\n",
       "      <th>DistanceFromHome</th>\n",
       "      <th>Education</th>\n",
       "      <th>EmployeeCount</th>\n",
       "      <th>EmployeeNumber</th>\n",
       "      <th>EnvironmentSatisfaction</th>\n",
       "      <th>PerformanceRating</th>\n",
       "      <th>HourlyRate</th>\n",
       "      <th>JobInvolvement</th>\n",
       "      <th>JobLevel</th>\n",
       "    </tr>\n",
       "  </thead>\n",
       "  <tbody>\n",
       "    <tr>\n",
       "      <th>0</th>\n",
       "      <td>41</td>\n",
       "      <td>1102</td>\n",
       "      <td>1</td>\n",
       "      <td>2</td>\n",
       "      <td>1</td>\n",
       "      <td>1</td>\n",
       "      <td>2</td>\n",
       "      <td>3</td>\n",
       "      <td>94</td>\n",
       "      <td>3</td>\n",
       "      <td>2</td>\n",
       "    </tr>\n",
       "    <tr>\n",
       "      <th>1</th>\n",
       "      <td>49</td>\n",
       "      <td>279</td>\n",
       "      <td>8</td>\n",
       "      <td>1</td>\n",
       "      <td>1</td>\n",
       "      <td>2</td>\n",
       "      <td>3</td>\n",
       "      <td>4</td>\n",
       "      <td>61</td>\n",
       "      <td>2</td>\n",
       "      <td>2</td>\n",
       "    </tr>\n",
       "    <tr>\n",
       "      <th>2</th>\n",
       "      <td>37</td>\n",
       "      <td>1373</td>\n",
       "      <td>2</td>\n",
       "      <td>2</td>\n",
       "      <td>1</td>\n",
       "      <td>4</td>\n",
       "      <td>4</td>\n",
       "      <td>3</td>\n",
       "      <td>92</td>\n",
       "      <td>2</td>\n",
       "      <td>1</td>\n",
       "    </tr>\n",
       "    <tr>\n",
       "      <th>3</th>\n",
       "      <td>33</td>\n",
       "      <td>1392</td>\n",
       "      <td>3</td>\n",
       "      <td>4</td>\n",
       "      <td>1</td>\n",
       "      <td>5</td>\n",
       "      <td>4</td>\n",
       "      <td>3</td>\n",
       "      <td>56</td>\n",
       "      <td>3</td>\n",
       "      <td>1</td>\n",
       "    </tr>\n",
       "    <tr>\n",
       "      <th>4</th>\n",
       "      <td>27</td>\n",
       "      <td>591</td>\n",
       "      <td>2</td>\n",
       "      <td>1</td>\n",
       "      <td>1</td>\n",
       "      <td>7</td>\n",
       "      <td>1</td>\n",
       "      <td>3</td>\n",
       "      <td>40</td>\n",
       "      <td>3</td>\n",
       "      <td>1</td>\n",
       "    </tr>\n",
       "  </tbody>\n",
       "</table>\n",
       "</div>"
      ],
      "text/plain": [
       "   Age  DailyRate  DistanceFromHome  Education  EmployeeCount  EmployeeNumber  \\\n",
       "0   41       1102                 1          2              1               1   \n",
       "1   49        279                 8          1              1               2   \n",
       "2   37       1373                 2          2              1               4   \n",
       "3   33       1392                 3          4              1               5   \n",
       "4   27        591                 2          1              1               7   \n",
       "\n",
       "   EnvironmentSatisfaction  PerformanceRating  HourlyRate  JobInvolvement  \\\n",
       "0                        2                  3          94               3   \n",
       "1                        3                  4          61               2   \n",
       "2                        4                  3          92               2   \n",
       "3                        4                  3          56               3   \n",
       "4                        1                  3          40               3   \n",
       "\n",
       "   JobLevel  \n",
       "0         2  \n",
       "1         2  \n",
       "2         1  \n",
       "3         1  \n",
       "4         1  "
      ]
     },
     "execution_count": 9,
     "metadata": {},
     "output_type": "execute_result"
    }
   ],
   "source": [
    "numerical_data = df.select_dtypes(include=['int64','float64'])\n",
    "numerical_data.head(5)"
   ]
  },
  {
   "cell_type": "code",
   "execution_count": 10,
   "id": "e9d62d09",
   "metadata": {},
   "outputs": [
    {
     "data": {
      "text/html": [
       "<div>\n",
       "<style scoped>\n",
       "    .dataframe tbody tr th:only-of-type {\n",
       "        vertical-align: middle;\n",
       "    }\n",
       "\n",
       "    .dataframe tbody tr th {\n",
       "        vertical-align: top;\n",
       "    }\n",
       "\n",
       "    .dataframe thead th {\n",
       "        text-align: right;\n",
       "    }\n",
       "</style>\n",
       "<table border=\"1\" class=\"dataframe\">\n",
       "  <thead>\n",
       "    <tr style=\"text-align: right;\">\n",
       "      <th></th>\n",
       "      <th>Attrition</th>\n",
       "      <th>BusinessTravel</th>\n",
       "      <th>Department</th>\n",
       "      <th>EducationField</th>\n",
       "      <th>JobRole</th>\n",
       "      <th>Gender</th>\n",
       "      <th>others</th>\n",
       "    </tr>\n",
       "  </thead>\n",
       "  <tbody>\n",
       "    <tr>\n",
       "      <th>0</th>\n",
       "      <td>Yes</td>\n",
       "      <td>Travel_Rarely</td>\n",
       "      <td>Sales</td>\n",
       "      <td>Life Sciences</td>\n",
       "      <td>Sales Executive</td>\n",
       "      <td>Female</td>\n",
       "      <td>Life Sciences</td>\n",
       "    </tr>\n",
       "    <tr>\n",
       "      <th>1</th>\n",
       "      <td>No</td>\n",
       "      <td>Travel_Frequently</td>\n",
       "      <td>Research &amp; Development</td>\n",
       "      <td>Life Sciences</td>\n",
       "      <td>Research Scientist</td>\n",
       "      <td>Male</td>\n",
       "      <td>Life Sciences</td>\n",
       "    </tr>\n",
       "    <tr>\n",
       "      <th>2</th>\n",
       "      <td>Yes</td>\n",
       "      <td>Travel_Rarely</td>\n",
       "      <td>Research &amp; Development</td>\n",
       "      <td>Other</td>\n",
       "      <td>Laboratory Technician</td>\n",
       "      <td>Male</td>\n",
       "      <td>Other</td>\n",
       "    </tr>\n",
       "    <tr>\n",
       "      <th>3</th>\n",
       "      <td>No</td>\n",
       "      <td>Travel_Frequently</td>\n",
       "      <td>Research &amp; Development</td>\n",
       "      <td>Life Sciences</td>\n",
       "      <td>Research Scientist</td>\n",
       "      <td>Female</td>\n",
       "      <td>Life Sciences</td>\n",
       "    </tr>\n",
       "    <tr>\n",
       "      <th>4</th>\n",
       "      <td>No</td>\n",
       "      <td>Travel_Rarely</td>\n",
       "      <td>Research &amp; Development</td>\n",
       "      <td>Medical</td>\n",
       "      <td>Laboratory Technician</td>\n",
       "      <td>Male</td>\n",
       "      <td>Medical</td>\n",
       "    </tr>\n",
       "  </tbody>\n",
       "</table>\n",
       "</div>"
      ],
      "text/plain": [
       "  Attrition     BusinessTravel              Department EducationField  \\\n",
       "0       Yes      Travel_Rarely                   Sales  Life Sciences   \n",
       "1        No  Travel_Frequently  Research & Development  Life Sciences   \n",
       "2       Yes      Travel_Rarely  Research & Development          Other   \n",
       "3        No  Travel_Frequently  Research & Development  Life Sciences   \n",
       "4        No      Travel_Rarely  Research & Development        Medical   \n",
       "\n",
       "                 JobRole  Gender         others  \n",
       "0        Sales Executive  Female  Life Sciences  \n",
       "1     Research Scientist    Male  Life Sciences  \n",
       "2  Laboratory Technician    Male          Other  \n",
       "3     Research Scientist  Female  Life Sciences  \n",
       "4  Laboratory Technician    Male        Medical  "
      ]
     },
     "execution_count": 10,
     "metadata": {},
     "output_type": "execute_result"
    }
   ],
   "source": [
    "categorical_data = df.select_dtypes(include=['object'])\n",
    "categorical_data.head(5)"
   ]
  },
  {
   "cell_type": "markdown",
   "id": "a1fcf501-e5e3-49cc-9814-b1cb1b1d158a",
   "metadata": {
    "id": "a1fcf501-e5e3-49cc-9814-b1cb1b1d158a"
   },
   "source": [
    "# Qs 4"
   ]
  },
  {
   "cell_type": "markdown",
   "id": "ac666ade",
   "metadata": {},
   "source": [
    "## Part a"
   ]
  },
  {
   "cell_type": "code",
   "execution_count": 11,
   "id": "eedfd912-c7f2-4a23-83d4-78130a7997c9",
   "metadata": {
    "id": "eedfd912-c7f2-4a23-83d4-78130a7997c9"
   },
   "outputs": [],
   "source": [
    "data = {\"name\":[\"Sadiq\",\"Aminu\",\"Udensi\",\"Olayiwola\",\"Ukpeh\",\"Akinbade\",\n",
    "            \"Ezeofor\",\"Oludele\",\"Gbenga\",\"Edgar\",\"Worlu\",\"Magbuwe\",\"Atte\",\"Orogun\",\"Bamigbade\"], \n",
    "    \"job_role\": [\"Data Engineer\",\"Data Scientist\",\"DevOps Engineer\",\"Research Engineer\",\"Analytical Engineer\",\"Data Analyst\",\"ML Engineer\",\n",
    "                \"DevOps Engineer\",\"Analytical Engineer\",\"Data Scientist\",\"MLOps Engineer\",\"Data Engineer\",\n",
    "                \"Data Scientist\",\"ML Engineer\",\"Research Engineer\",], \n",
    "    \"salary\": [74454, 54900, 76182, 56221, 81254, 75900, 67122, 62426, 61553,77070, 67587, 50095, 75820, 68174, 79069]}\n",
    "dataframe = pd.DataFrame(data)"
   ]
  },
  {
   "cell_type": "markdown",
   "id": "b5e5ceca",
   "metadata": {
    "id": "bffc37b3-1a25-4164-9be1-927363ce74ef"
   },
   "source": [
    "## Part b"
   ]
  },
  {
   "cell_type": "code",
   "execution_count": 12,
   "id": "1ab30715-ef19-4cf1-b3fc-15dc8cb1cb7d",
   "metadata": {
    "id": "1ab30715-ef19-4cf1-b3fc-15dc8cb1cb7d"
   },
   "outputs": [
    {
     "data": {
      "text/html": [
       "<div>\n",
       "<style scoped>\n",
       "    .dataframe tbody tr th:only-of-type {\n",
       "        vertical-align: middle;\n",
       "    }\n",
       "\n",
       "    .dataframe tbody tr th {\n",
       "        vertical-align: top;\n",
       "    }\n",
       "\n",
       "    .dataframe thead th {\n",
       "        text-align: right;\n",
       "    }\n",
       "</style>\n",
       "<table border=\"1\" class=\"dataframe\">\n",
       "  <thead>\n",
       "    <tr style=\"text-align: right;\">\n",
       "      <th></th>\n",
       "      <th>name</th>\n",
       "      <th>job_role</th>\n",
       "      <th>salary</th>\n",
       "      <th>title</th>\n",
       "    </tr>\n",
       "  </thead>\n",
       "  <tbody>\n",
       "    <tr>\n",
       "      <th>0</th>\n",
       "      <td>Sadiq</td>\n",
       "      <td>Data Engineer</td>\n",
       "      <td>74454</td>\n",
       "      <td>Engineer</td>\n",
       "    </tr>\n",
       "    <tr>\n",
       "      <th>1</th>\n",
       "      <td>Aminu</td>\n",
       "      <td>Data Scientist</td>\n",
       "      <td>54900</td>\n",
       "      <td>Analyst/Scientist</td>\n",
       "    </tr>\n",
       "    <tr>\n",
       "      <th>2</th>\n",
       "      <td>Udensi</td>\n",
       "      <td>DevOps Engineer</td>\n",
       "      <td>76182</td>\n",
       "      <td>Engineer</td>\n",
       "    </tr>\n",
       "    <tr>\n",
       "      <th>3</th>\n",
       "      <td>Olayiwola</td>\n",
       "      <td>Research Engineer</td>\n",
       "      <td>56221</td>\n",
       "      <td>Engineer</td>\n",
       "    </tr>\n",
       "    <tr>\n",
       "      <th>4</th>\n",
       "      <td>Ukpeh</td>\n",
       "      <td>Analytical Engineer</td>\n",
       "      <td>81254</td>\n",
       "      <td>Engineer</td>\n",
       "    </tr>\n",
       "  </tbody>\n",
       "</table>\n",
       "</div>"
      ],
      "text/plain": [
       "        name             job_role  salary              title\n",
       "0      Sadiq        Data Engineer   74454           Engineer\n",
       "1      Aminu       Data Scientist   54900  Analyst/Scientist\n",
       "2     Udensi      DevOps Engineer   76182           Engineer\n",
       "3  Olayiwola    Research Engineer   56221           Engineer\n",
       "4      Ukpeh  Analytical Engineer   81254           Engineer"
      ]
     },
     "execution_count": 12,
     "metadata": {},
     "output_type": "execute_result"
    }
   ],
   "source": [
    "def create_new(role):\n",
    "    \"\"\"\n",
    "    Given a job role, categorizes it into one of three categories: 'Engineer', 'Analyst/Scientist', or 'other'.\n",
    "\n",
    "    Args:\n",
    "        role (str): The job role to be categorized.\n",
    "\n",
    "    Returns:\n",
    "        str: The categorized job role.\n",
    "\n",
    "    Examples:\n",
    "        >>> create_new('Software Engineer')\n",
    "        'Engineer'\n",
    "        >>> create_new('Data Scientist')\n",
    "        'Analyst/Scientist'\n",
    "        >>> create_new('Manager')\n",
    "        'other'\n",
    "    \"\"\"    \n",
    "    if 'engineer' in role.lower():\n",
    "        return 'Engineer'\n",
    "    elif 'analyst' in role.lower() or 'scientist' in role.lower():\n",
    "        return 'Analyst/Scientist'\n",
    "    else:\n",
    "        return 'other'\n",
    "dataframe['title'] = dataframe['job_role'].apply(create_new)\n",
    "dataframe.head(5)"
   ]
  },
  {
   "cell_type": "markdown",
   "id": "8944f65d",
   "metadata": {
    "id": "e93a92bb-b6b0-449c-a189-1d972e37ca76"
   },
   "source": [
    "## Part c"
   ]
  },
  {
   "cell_type": "code",
   "execution_count": 13,
   "id": "fec1c03e",
   "metadata": {},
   "outputs": [
    {
     "data": {
      "text/html": [
       "<div>\n",
       "<style scoped>\n",
       "    .dataframe tbody tr th:only-of-type {\n",
       "        vertical-align: middle;\n",
       "    }\n",
       "\n",
       "    .dataframe tbody tr th {\n",
       "        vertical-align: top;\n",
       "    }\n",
       "\n",
       "    .dataframe thead th {\n",
       "        text-align: right;\n",
       "    }\n",
       "</style>\n",
       "<table border=\"1\" class=\"dataframe\">\n",
       "  <thead>\n",
       "    <tr style=\"text-align: right;\">\n",
       "      <th></th>\n",
       "      <th>salary</th>\n",
       "    </tr>\n",
       "    <tr>\n",
       "      <th>title</th>\n",
       "      <th></th>\n",
       "    </tr>\n",
       "  </thead>\n",
       "  <tbody>\n",
       "    <tr>\n",
       "      <th>Analyst/Scientist</th>\n",
       "      <td>70922.0</td>\n",
       "    </tr>\n",
       "    <tr>\n",
       "      <th>Engineer</th>\n",
       "      <td>67649.0</td>\n",
       "    </tr>\n",
       "  </tbody>\n",
       "</table>\n",
       "</div>"
      ],
      "text/plain": [
       "                    salary\n",
       "title                     \n",
       "Analyst/Scientist  70922.0\n",
       "Engineer           67649.0"
      ]
     },
     "execution_count": 13,
     "metadata": {},
     "output_type": "execute_result"
    }
   ],
   "source": [
    "mean_per_title = round(dataframe.groupby('title').mean())\n",
    "mean_per_title.head()"
   ]
  },
  {
   "cell_type": "code",
   "execution_count": 14,
   "id": "db073e4e",
   "metadata": {},
   "outputs": [
    {
     "data": {
      "text/html": [
       "<div>\n",
       "<style scoped>\n",
       "    .dataframe tbody tr th:only-of-type {\n",
       "        vertical-align: middle;\n",
       "    }\n",
       "\n",
       "    .dataframe tbody tr th {\n",
       "        vertical-align: top;\n",
       "    }\n",
       "\n",
       "    .dataframe thead th {\n",
       "        text-align: right;\n",
       "    }\n",
       "</style>\n",
       "<table border=\"1\" class=\"dataframe\">\n",
       "  <thead>\n",
       "    <tr style=\"text-align: right;\">\n",
       "      <th></th>\n",
       "      <th>salary</th>\n",
       "    </tr>\n",
       "    <tr>\n",
       "      <th>title</th>\n",
       "      <th></th>\n",
       "    </tr>\n",
       "  </thead>\n",
       "  <tbody>\n",
       "    <tr>\n",
       "      <th>Analyst/Scientist</th>\n",
       "      <td>75860.0</td>\n",
       "    </tr>\n",
       "    <tr>\n",
       "      <th>Engineer</th>\n",
       "      <td>67587.0</td>\n",
       "    </tr>\n",
       "  </tbody>\n",
       "</table>\n",
       "</div>"
      ],
      "text/plain": [
       "                    salary\n",
       "title                     \n",
       "Analyst/Scientist  75860.0\n",
       "Engineer           67587.0"
      ]
     },
     "execution_count": 14,
     "metadata": {},
     "output_type": "execute_result"
    }
   ],
   "source": [
    "median_per_title = round(dataframe.groupby('title').median())\n",
    "median_per_title.head()"
   ]
  }
 ],
 "metadata": {
  "colab": {
   "provenance": []
  },
  "kernelspec": {
   "display_name": "Python 3 (ipykernel)",
   "language": "python",
   "name": "python3"
  },
  "language_info": {
   "codemirror_mode": {
    "name": "ipython",
    "version": 3
   },
   "file_extension": ".py",
   "mimetype": "text/x-python",
   "name": "python",
   "nbconvert_exporter": "python",
   "pygments_lexer": "ipython3",
   "version": "3.9.13"
  }
 },
 "nbformat": 4,
 "nbformat_minor": 5
}
