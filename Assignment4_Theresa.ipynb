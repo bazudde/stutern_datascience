{
 "cells": [
  {
   "cell_type": "markdown",
   "id": "27c9aa61-8e50-4ce9-95b1-ee11d85dd067",
   "metadata": {
    "id": "27c9aa61-8e50-4ce9-95b1-ee11d85dd067"
   },
   "source": [
    "# Assignment 4 (Week 4)\n",
    "\n",
    "\n",
    "## Name: Theresa Louise Bazudde\n",
    "\n"
   ]
  },
  {
   "cell_type": "code",
   "execution_count": 1,
   "id": "5f4da313-7d5a-4b4d-a9fe-5b814bb3ab3c",
   "metadata": {
    "id": "5f4da313-7d5a-4b4d-a9fe-5b814bb3ab3c"
   },
   "outputs": [
    {
     "data": {
      "application/javascript": [
       "\n",
       "            setTimeout(function() {\n",
       "                var nbb_cell_id = 1;\n",
       "                var nbb_unformatted_code = \"# Standard imports\\nimport numpy as np\\nimport pandas as pd\\nimport matplotlib.pyplot as plt\\nimport seaborn as sns\\n\\n# Built-in library\\nimport itertools\\nimport re\\nimport json\\nimport typing as tp\\n\\n# pandas settings\\npd.options.display.max_rows = 1_000\\npd.options.display.max_columns = 1_000\\npd.options.display.max_colwidth = 1_000\\n\\n# Black code formatter (Optional)\\n%load_ext nb_black\";\n",
       "                var nbb_formatted_code = \"# Standard imports\\nimport numpy as np\\nimport pandas as pd\\nimport matplotlib.pyplot as plt\\nimport seaborn as sns\\n\\n# Built-in library\\nimport itertools\\nimport re\\nimport json\\nimport typing as tp\\n\\n# pandas settings\\npd.options.display.max_rows = 1_000\\npd.options.display.max_columns = 1_000\\npd.options.display.max_colwidth = 1_000\\n\\n# Black code formatter (Optional)\\n%load_ext nb_black\";\n",
       "                var nbb_cells = Jupyter.notebook.get_cells();\n",
       "                for (var i = 0; i < nbb_cells.length; ++i) {\n",
       "                    if (nbb_cells[i].input_prompt_number == nbb_cell_id) {\n",
       "                        if (nbb_cells[i].get_text() == nbb_unformatted_code) {\n",
       "                             nbb_cells[i].set_text(nbb_formatted_code);\n",
       "                        }\n",
       "                        break;\n",
       "                    }\n",
       "                }\n",
       "            }, 500);\n",
       "            "
      ],
      "text/plain": [
       "<IPython.core.display.Javascript object>"
      ]
     },
     "metadata": {},
     "output_type": "display_data"
    }
   ],
   "source": [
    "# Standard imports\n",
    "import numpy as np\n",
    "import pandas as pd\n",
    "import matplotlib.pyplot as plt\n",
    "import seaborn as sns\n",
    "\n",
    "# Built-in library\n",
    "import itertools\n",
    "import re\n",
    "import json\n",
    "import typing as tp\n",
    "\n",
    "# pandas settings\n",
    "pd.options.display.max_rows = 1_000\n",
    "pd.options.display.max_columns = 1_000\n",
    "pd.options.display.max_colwidth = 1_000\n",
    "\n",
    "# Black code formatter (Optional)\n",
    "%load_ext nb_black"
   ]
  },
  {
   "cell_type": "markdown",
   "id": "c21c79d8-8ef6-43a6-9263-b95c75a7f547",
   "metadata": {
    "id": "c21c79d8-8ef6-43a6-9263-b95c75a7f547"
   },
   "source": [
    "#  Qs1"
   ]
  },
  {
   "cell_type": "code",
   "execution_count": 2,
   "id": "85748e20-5fdf-4a91-94a7-fe85678d411b",
   "metadata": {
    "id": "85748e20-5fdf-4a91-94a7-fe85678d411b"
   },
   "outputs": [
    {
     "data": {
      "application/javascript": [
       "\n",
       "            setTimeout(function() {\n",
       "                var nbb_cell_id = 2;\n",
       "                var nbb_unformatted_code = \"art = pd.read_csv(\\\"art.csv\\\")\";\n",
       "                var nbb_formatted_code = \"art = pd.read_csv(\\\"art.csv\\\")\";\n",
       "                var nbb_cells = Jupyter.notebook.get_cells();\n",
       "                for (var i = 0; i < nbb_cells.length; ++i) {\n",
       "                    if (nbb_cells[i].input_prompt_number == nbb_cell_id) {\n",
       "                        if (nbb_cells[i].get_text() == nbb_unformatted_code) {\n",
       "                             nbb_cells[i].set_text(nbb_formatted_code);\n",
       "                        }\n",
       "                        break;\n",
       "                    }\n",
       "                }\n",
       "            }, 500);\n",
       "            "
      ],
      "text/plain": [
       "<IPython.core.display.Javascript object>"
      ]
     },
     "metadata": {},
     "output_type": "display_data"
    }
   ],
   "source": [
    "art = pd.read_csv(\"art.csv\")"
   ]
  },
  {
   "cell_type": "markdown",
   "id": "5b5713e9",
   "metadata": {},
   "source": [
    "### Part a"
   ]
  },
  {
   "cell_type": "code",
   "execution_count": 3,
   "id": "80b31fb5-21dc-4735-ac26-214f1a0f2f37",
   "metadata": {
    "id": "80b31fb5-21dc-4735-ac26-214f1a0f2f37"
   },
   "outputs": [
    {
     "data": {
      "text/plain": [
       "array(['Leonardo da Vinci', 'Rembrandt van Rijn', 'Artist Unknown',\n",
       "       'Thomas Gainsborough', 'Georges Seurat', 'Jean-François Millet',\n",
       "       'Itō Jakuchū', 'Katsushika Hokusai', 'Auguste Rodin',\n",
       "       'Vincent van Gogh', 'Michelangelo',\n",
       "       'Joseph Mallord William Turner', 'Hishikawa Moronobu',\n",
       "       'Thomas Ridgeway Gould', 'Giuseppe Arcimboldo',\n",
       "       'Sandro Botticelli', 'Arnold Böcklin', 'Thutmose', 'Édouard Manet',\n",
       "       'Paul Cézanne', 'Johannes Vermeer', 'Tōshūsai Sharaku',\n",
       "       'Pieter Brueghel the Elder', 'John Everett Millais',\n",
       "       'Diego Velázquez', 'Francisco de Goya', 'Tawaraya Sōtatsu',\n",
       "       'Eugène Delacroix'], dtype=object)"
      ]
     },
     "execution_count": 3,
     "metadata": {},
     "output_type": "execute_result"
    },
    {
     "data": {
      "application/javascript": [
       "\n",
       "            setTimeout(function() {\n",
       "                var nbb_cell_id = 3;\n",
       "                var nbb_unformatted_code = \"art[\\\"Name\\\"] = art[\\\"Artist\\\"].str.split(\\\",\\\").apply(lambda x: x[0].strip())\\nart.Name.unique()\";\n",
       "                var nbb_formatted_code = \"art[\\\"Name\\\"] = art[\\\"Artist\\\"].str.split(\\\",\\\").apply(lambda x: x[0].strip())\\nart.Name.unique()\";\n",
       "                var nbb_cells = Jupyter.notebook.get_cells();\n",
       "                for (var i = 0; i < nbb_cells.length; ++i) {\n",
       "                    if (nbb_cells[i].input_prompt_number == nbb_cell_id) {\n",
       "                        if (nbb_cells[i].get_text() == nbb_unformatted_code) {\n",
       "                             nbb_cells[i].set_text(nbb_formatted_code);\n",
       "                        }\n",
       "                        break;\n",
       "                    }\n",
       "                }\n",
       "            }, 500);\n",
       "            "
      ],
      "text/plain": [
       "<IPython.core.display.Javascript object>"
      ]
     },
     "metadata": {},
     "output_type": "display_data"
    }
   ],
   "source": [
    "art[\"Name\"] = art[\"Artist\"].str.split(\",\").apply(lambda x: x[0].strip())\n",
    "art.Name.unique()"
   ]
  },
  {
   "cell_type": "markdown",
   "id": "27d35c7d",
   "metadata": {
    "id": "ed48d85c-6f70-4530-9227-42fd0ebeb604",
    "scrolled": true
   },
   "source": [
    "### Part b"
   ]
  },
  {
   "cell_type": "code",
   "execution_count": 4,
   "id": "2325b04d-6340-42c3-be27-c8ba7533ef72",
   "metadata": {
    "id": "2325b04d-6340-42c3-be27-c8ba7533ef72"
   },
   "outputs": [
    {
     "data": {
      "text/plain": [
       "array(['circa 1487', '1642', '1000-400 BCE', '1770', 'circa 130 BCE',\n",
       "       'circa 1885', '1857', '18th century', 'circa 1831', '1902',\n",
       "       'circa 1503', 'circa 1888', 'circa 1504', '1839', '17th century',\n",
       "       'circa 1883', '196 BCE', 'circa 1563', 'circa 1850',\n",
       "       '5th century BCE', 'circa 1485', '1883', 'circa 1345 BCE', '1866',\n",
       "       'circa 1899', 'circa 1882', 'circa 1658', '2nd century CE',\n",
       "       'circa 1000 BCE', '1794', '1565', 'circa 1490', '1852',\n",
       "       'circa 1656', '1200 BCE', '1889', 'circa 190 BCE', 'circa 1805',\n",
       "       '210 BCE', 'circa 1665', '1830'], dtype=object)"
      ]
     },
     "execution_count": 4,
     "metadata": {},
     "output_type": "execute_result"
    },
    {
     "data": {
      "application/javascript": [
       "\n",
       "            setTimeout(function() {\n",
       "                var nbb_cell_id = 4;\n",
       "                var nbb_unformatted_code = \"art[\\\"Date\\\"] = art[\\\"Artist\\\"].str.split(\\\",\\\").apply(lambda x: x[1].strip())\\nart.Date.unique()\";\n",
       "                var nbb_formatted_code = \"art[\\\"Date\\\"] = art[\\\"Artist\\\"].str.split(\\\",\\\").apply(lambda x: x[1].strip())\\nart.Date.unique()\";\n",
       "                var nbb_cells = Jupyter.notebook.get_cells();\n",
       "                for (var i = 0; i < nbb_cells.length; ++i) {\n",
       "                    if (nbb_cells[i].input_prompt_number == nbb_cell_id) {\n",
       "                        if (nbb_cells[i].get_text() == nbb_unformatted_code) {\n",
       "                             nbb_cells[i].set_text(nbb_formatted_code);\n",
       "                        }\n",
       "                        break;\n",
       "                    }\n",
       "                }\n",
       "            }, 500);\n",
       "            "
      ],
      "text/plain": [
       "<IPython.core.display.Javascript object>"
      ]
     },
     "metadata": {},
     "output_type": "display_data"
    }
   ],
   "source": [
    "art[\"Date\"] = art[\"Artist\"].str.split(\",\").apply(lambda x: x[1].strip())\n",
    "art.Date.unique()"
   ]
  },
  {
   "cell_type": "markdown",
   "id": "8f533977",
   "metadata": {},
   "source": [
    "### Part c"
   ]
  },
  {
   "cell_type": "code",
   "execution_count": 5,
   "id": "79742f1a",
   "metadata": {},
   "outputs": [
    {
     "data": {
      "text/plain": [
       "array(['Pen and ink on paper', 'Oil on canvas', 'Fired pottery', 'Marble',\n",
       "       'Dyed silk', 'Woodblock print', 'Bronze', 'Oil on poplar',\n",
       "       'Color on silk', 'Granodiorite', 'Tempura on canvas',\n",
       "       'Oil on wood', 'circa 1345 BCE', 'andesite', 'Oil on wood panel',\n",
       "       'Earthenware', 'Gold leaf and ink on paper'], dtype=object)"
      ]
     },
     "execution_count": 5,
     "metadata": {},
     "output_type": "execute_result"
    },
    {
     "data": {
      "application/javascript": [
       "\n",
       "            setTimeout(function() {\n",
       "                var nbb_cell_id = 5;\n",
       "                var nbb_unformatted_code = \"art[\\\"Art_type\\\"] = art[\\\"Artist\\\"].str.split(\\\",\\\").apply(lambda x: x[-1].strip())\\nart.Art_type.unique()\";\n",
       "                var nbb_formatted_code = \"art[\\\"Art_type\\\"] = art[\\\"Artist\\\"].str.split(\\\",\\\").apply(lambda x: x[-1].strip())\\nart.Art_type.unique()\";\n",
       "                var nbb_cells = Jupyter.notebook.get_cells();\n",
       "                for (var i = 0; i < nbb_cells.length; ++i) {\n",
       "                    if (nbb_cells[i].input_prompt_number == nbb_cell_id) {\n",
       "                        if (nbb_cells[i].get_text() == nbb_unformatted_code) {\n",
       "                             nbb_cells[i].set_text(nbb_formatted_code);\n",
       "                        }\n",
       "                        break;\n",
       "                    }\n",
       "                }\n",
       "            }, 500);\n",
       "            "
      ],
      "text/plain": [
       "<IPython.core.display.Javascript object>"
      ]
     },
     "metadata": {},
     "output_type": "display_data"
    }
   ],
   "source": [
    "art[\"Art_type\"] = art[\"Artist\"].str.split(\",\").apply(lambda x: x[-1].strip())\n",
    "art.Art_type.unique()"
   ]
  },
  {
   "cell_type": "markdown",
   "id": "7a694813-9c95-479a-a12e-3577c1b9d497",
   "metadata": {
    "id": "7a694813-9c95-479a-a12e-3577c1b9d497"
   },
   "source": [
    "# Qs 2"
   ]
  },
  {
   "cell_type": "code",
   "execution_count": 6,
   "id": "5712c2ec-da5b-4dd8-b37e-7fdb0ba7927c",
   "metadata": {
    "id": "5712c2ec-da5b-4dd8-b37e-7fdb0ba7927c"
   },
   "outputs": [
    {
     "data": {
      "text/html": [
       "<div>\n",
       "<style scoped>\n",
       "    .dataframe tbody tr th:only-of-type {\n",
       "        vertical-align: middle;\n",
       "    }\n",
       "\n",
       "    .dataframe tbody tr th {\n",
       "        vertical-align: top;\n",
       "    }\n",
       "\n",
       "    .dataframe thead th {\n",
       "        text-align: right;\n",
       "    }\n",
       "</style>\n",
       "<table border=\"1\" class=\"dataframe\">\n",
       "  <thead>\n",
       "    <tr style=\"text-align: right;\">\n",
       "      <th></th>\n",
       "      <th>Booking_ID</th>\n",
       "      <th>no_of_adults</th>\n",
       "      <th>no_of_children</th>\n",
       "      <th>no_of_weekend_nights</th>\n",
       "      <th>no_of_week_nights</th>\n",
       "      <th>type_of_meal_plan</th>\n",
       "      <th>required_car_parking_space</th>\n",
       "      <th>room_type_reserved</th>\n",
       "      <th>lead_time</th>\n",
       "      <th>arrival_year</th>\n",
       "      <th>arrival_month</th>\n",
       "      <th>arrival_date</th>\n",
       "      <th>market_segment_type</th>\n",
       "      <th>repeated_guest</th>\n",
       "      <th>no_of_previous_cancellations</th>\n",
       "      <th>no_of_previous_bookings_not_canceled</th>\n",
       "      <th>avg_price_per_room</th>\n",
       "      <th>no_of_special_requests</th>\n",
       "      <th>booking_status</th>\n",
       "    </tr>\n",
       "  </thead>\n",
       "  <tbody>\n",
       "    <tr>\n",
       "      <th>0</th>\n",
       "      <td>INN00001</td>\n",
       "      <td>2</td>\n",
       "      <td>0</td>\n",
       "      <td>1</td>\n",
       "      <td>2</td>\n",
       "      <td>Meal Plan 1</td>\n",
       "      <td>0</td>\n",
       "      <td>Room_Type 1</td>\n",
       "      <td>224</td>\n",
       "      <td>2017</td>\n",
       "      <td>10</td>\n",
       "      <td>2</td>\n",
       "      <td>Offline</td>\n",
       "      <td>0</td>\n",
       "      <td>0</td>\n",
       "      <td>0</td>\n",
       "      <td>65.00</td>\n",
       "      <td>0</td>\n",
       "      <td>Not_Canceled</td>\n",
       "    </tr>\n",
       "    <tr>\n",
       "      <th>1</th>\n",
       "      <td>INN00002</td>\n",
       "      <td>2</td>\n",
       "      <td>0</td>\n",
       "      <td>2</td>\n",
       "      <td>3</td>\n",
       "      <td>Not Selected</td>\n",
       "      <td>0</td>\n",
       "      <td>Room_Type 1</td>\n",
       "      <td>5</td>\n",
       "      <td>2018</td>\n",
       "      <td>11</td>\n",
       "      <td>6</td>\n",
       "      <td>Online</td>\n",
       "      <td>0</td>\n",
       "      <td>0</td>\n",
       "      <td>0</td>\n",
       "      <td>106.68</td>\n",
       "      <td>1</td>\n",
       "      <td>Not_Canceled</td>\n",
       "    </tr>\n",
       "    <tr>\n",
       "      <th>2</th>\n",
       "      <td>INN00003</td>\n",
       "      <td>1</td>\n",
       "      <td>0</td>\n",
       "      <td>2</td>\n",
       "      <td>1</td>\n",
       "      <td>Meal Plan 1</td>\n",
       "      <td>0</td>\n",
       "      <td>Room_Type 1</td>\n",
       "      <td>1</td>\n",
       "      <td>2018</td>\n",
       "      <td>2</td>\n",
       "      <td>28</td>\n",
       "      <td>Online</td>\n",
       "      <td>0</td>\n",
       "      <td>0</td>\n",
       "      <td>0</td>\n",
       "      <td>60.00</td>\n",
       "      <td>0</td>\n",
       "      <td>Canceled</td>\n",
       "    </tr>\n",
       "    <tr>\n",
       "      <th>3</th>\n",
       "      <td>INN00004</td>\n",
       "      <td>2</td>\n",
       "      <td>0</td>\n",
       "      <td>0</td>\n",
       "      <td>2</td>\n",
       "      <td>Meal Plan 1</td>\n",
       "      <td>0</td>\n",
       "      <td>Room_Type 1</td>\n",
       "      <td>211</td>\n",
       "      <td>2018</td>\n",
       "      <td>5</td>\n",
       "      <td>20</td>\n",
       "      <td>Online</td>\n",
       "      <td>0</td>\n",
       "      <td>0</td>\n",
       "      <td>0</td>\n",
       "      <td>100.00</td>\n",
       "      <td>0</td>\n",
       "      <td>Canceled</td>\n",
       "    </tr>\n",
       "    <tr>\n",
       "      <th>4</th>\n",
       "      <td>INN00005</td>\n",
       "      <td>2</td>\n",
       "      <td>0</td>\n",
       "      <td>1</td>\n",
       "      <td>1</td>\n",
       "      <td>Not Selected</td>\n",
       "      <td>0</td>\n",
       "      <td>Room_Type 1</td>\n",
       "      <td>48</td>\n",
       "      <td>2018</td>\n",
       "      <td>4</td>\n",
       "      <td>11</td>\n",
       "      <td>Online</td>\n",
       "      <td>0</td>\n",
       "      <td>0</td>\n",
       "      <td>0</td>\n",
       "      <td>94.50</td>\n",
       "      <td>0</td>\n",
       "      <td>Canceled</td>\n",
       "    </tr>\n",
       "  </tbody>\n",
       "</table>\n",
       "</div>"
      ],
      "text/plain": [
       "  Booking_ID  no_of_adults  no_of_children  no_of_weekend_nights  \\\n",
       "0   INN00001             2               0                     1   \n",
       "1   INN00002             2               0                     2   \n",
       "2   INN00003             1               0                     2   \n",
       "3   INN00004             2               0                     0   \n",
       "4   INN00005             2               0                     1   \n",
       "\n",
       "   no_of_week_nights type_of_meal_plan  required_car_parking_space  \\\n",
       "0                  2       Meal Plan 1                           0   \n",
       "1                  3      Not Selected                           0   \n",
       "2                  1       Meal Plan 1                           0   \n",
       "3                  2       Meal Plan 1                           0   \n",
       "4                  1      Not Selected                           0   \n",
       "\n",
       "  room_type_reserved  lead_time  arrival_year  arrival_month  arrival_date  \\\n",
       "0        Room_Type 1        224          2017             10             2   \n",
       "1        Room_Type 1          5          2018             11             6   \n",
       "2        Room_Type 1          1          2018              2            28   \n",
       "3        Room_Type 1        211          2018              5            20   \n",
       "4        Room_Type 1         48          2018              4            11   \n",
       "\n",
       "  market_segment_type  repeated_guest  no_of_previous_cancellations  \\\n",
       "0             Offline               0                             0   \n",
       "1              Online               0                             0   \n",
       "2              Online               0                             0   \n",
       "3              Online               0                             0   \n",
       "4              Online               0                             0   \n",
       "\n",
       "   no_of_previous_bookings_not_canceled  avg_price_per_room  \\\n",
       "0                                     0               65.00   \n",
       "1                                     0              106.68   \n",
       "2                                     0               60.00   \n",
       "3                                     0              100.00   \n",
       "4                                     0               94.50   \n",
       "\n",
       "   no_of_special_requests booking_status  \n",
       "0                       0   Not_Canceled  \n",
       "1                       1   Not_Canceled  \n",
       "2                       0       Canceled  \n",
       "3                       0       Canceled  \n",
       "4                       0       Canceled  "
      ]
     },
     "execution_count": 6,
     "metadata": {},
     "output_type": "execute_result"
    },
    {
     "data": {
      "application/javascript": [
       "\n",
       "            setTimeout(function() {\n",
       "                var nbb_cell_id = 6;\n",
       "                var nbb_unformatted_code = \"df = pd.read_csv(\\\"Hotel Reservations.csv\\\")\\ndf.head(5)\";\n",
       "                var nbb_formatted_code = \"df = pd.read_csv(\\\"Hotel Reservations.csv\\\")\\ndf.head(5)\";\n",
       "                var nbb_cells = Jupyter.notebook.get_cells();\n",
       "                for (var i = 0; i < nbb_cells.length; ++i) {\n",
       "                    if (nbb_cells[i].input_prompt_number == nbb_cell_id) {\n",
       "                        if (nbb_cells[i].get_text() == nbb_unformatted_code) {\n",
       "                             nbb_cells[i].set_text(nbb_formatted_code);\n",
       "                        }\n",
       "                        break;\n",
       "                    }\n",
       "                }\n",
       "            }, 500);\n",
       "            "
      ],
      "text/plain": [
       "<IPython.core.display.Javascript object>"
      ]
     },
     "metadata": {},
     "output_type": "display_data"
    }
   ],
   "source": [
    "df = pd.read_csv(\"Hotel Reservations.csv\")\n",
    "df.head(5)"
   ]
  },
  {
   "cell_type": "markdown",
   "id": "0a6a9d18",
   "metadata": {},
   "source": [
    "## Part a (i & ii)"
   ]
  },
  {
   "cell_type": "code",
   "execution_count": 7,
   "id": "015e0881-f01e-4c25-8b03-197bcb8f622b",
   "metadata": {
    "id": "015e0881-f01e-4c25-8b03-197bcb8f622b"
   },
   "outputs": [
    {
     "name": "stdout",
     "output_type": "stream",
     "text": [
      "Descriptive summary statistics for sigmoid transformation:\n",
      "       no_of_adults_sigmoid  arrival_month_sigmoid  \\\n",
      "count          36275.000000           36275.000000   \n",
      "mean               0.852203               0.981613   \n",
      "std                0.069484               0.050257   \n",
      "min                0.500000               0.731059   \n",
      "25%                0.880797               0.993307   \n",
      "50%                0.880797               0.999665   \n",
      "75%                0.880797               0.999955   \n",
      "max                0.982014               0.999994   \n",
      "\n",
      "       no_of_special_requests_sigmoid  \n",
      "count                    36275.000000  \n",
      "mean                         0.627820  \n",
      "std                          0.149031  \n",
      "min                          0.500000  \n",
      "25%                          0.500000  \n",
      "50%                          0.500000  \n",
      "75%                          0.731059  \n",
      "max                          0.993307  \n",
      "\n",
      "Descriptive summary statistics for cube root transformation:\n",
      "       no_of_adults_cbrt  arrival_month_cbrt  no_of_special_requests_cbrt\n",
      "count       36275.000000        36275.000000                 36275.000000\n",
      "mean            1.211747            1.901298                     0.495722\n",
      "std             0.142353            0.319375                     0.550934\n",
      "min             0.000000            1.000000                     0.000000\n",
      "25%             1.259921            1.709976                     0.000000\n",
      "50%             1.259921            2.000000                     0.000000\n",
      "75%             1.259921            2.154435                     1.000000\n",
      "max             1.587401            2.289428                     1.709976\n"
     ]
    },
    {
     "data": {
      "application/javascript": [
       "\n",
       "            setTimeout(function() {\n",
       "                var nbb_cell_id = 7;\n",
       "                var nbb_unformatted_code = \"class NumericTransformers:\\n    \\\"\\\"\\\"\\n    This class is used to apply 'Sigmoid' and 'Cube root'\\n    transformations to the input data (Vector).\\n    \\\"\\\"\\\"\\n    \\n    def __init__(self, df):\\n        self.df = df\\n        \\n    def sigmoid(self, x):\\n        \\\"\\\"\\\"\\n        Apply a sigmoid function to a scalar value x\\n        \\\"\\\"\\\"\\n        return 1 / (1 + np.exp(-x))\\n    \\n    def transform_sigmoid(self, col_names):\\n        \\\"\\\"\\\"\\n        Transform the specified columns using a sigmoid function\\n        \\\"\\\"\\\"\\n        for col_name in col_names:\\n            self.df[f\\\"{col_name}_sigmoid\\\"] = self.df[col_name].apply(lambda x: self.sigmoid(x))\\n    \\n    def transform_cube_root(self, col_names):\\n        \\\"\\\"\\\"\\n        Transform the specified columns by taking the cube root of each value\\n        \\\"\\\"\\\"\\n        for col_name in col_names:\\n            self.df[f\\\"{col_name}_cbrt\\\"] = self.df[col_name].apply(lambda x: np.cbrt(x))\\n\\n\\n# Create an instance of the NumericTransformers class\\nnt = NumericTransformers(df)\\n\\n# Define the columns to transform\\ncols_to_transform = ['no_of_adults', 'arrival_month','no_of_special_requests']\\n\\n# Apply the transformations to the specified columns\\nnt.transform_sigmoid(cols_to_transform)\\nnt.transform_cube_root(cols_to_transform)\\n\\n# Create a new DataFrame with the transformed features\\nnew_df = nt.df[['no_of_adults_sigmoid', 'no_of_adults_cbrt', 'arrival_month_sigmoid','arrival_month_cbrt',\\n                'no_of_special_requests_sigmoid', 'no_of_special_requests_cbrt']]\\n\\n# Display the descriptive summary statistics for each transformation\\nprint('Descriptive summary statistics for sigmoid transformation:')\\nprint(new_df[['no_of_adults_sigmoid','arrival_month_sigmoid', 'no_of_special_requests_sigmoid']].describe())\\n\\nprint('')\\n\\nprint('Descriptive summary statistics for cube root transformation:')\\nprint(new_df[['no_of_adults_cbrt', 'arrival_month_cbrt', 'no_of_special_requests_cbrt']].describe())\";\n",
       "                var nbb_formatted_code = \"class NumericTransformers:\\n    \\\"\\\"\\\"\\n    This class is used to apply 'Sigmoid' and 'Cube root'\\n    transformations to the input data (Vector).\\n    \\\"\\\"\\\"\\n\\n    def __init__(self, df):\\n        self.df = df\\n\\n    def sigmoid(self, x):\\n        \\\"\\\"\\\"\\n        Apply a sigmoid function to a scalar value x\\n        \\\"\\\"\\\"\\n        return 1 / (1 + np.exp(-x))\\n\\n    def transform_sigmoid(self, col_names):\\n        \\\"\\\"\\\"\\n        Transform the specified columns using a sigmoid function\\n        \\\"\\\"\\\"\\n        for col_name in col_names:\\n            self.df[f\\\"{col_name}_sigmoid\\\"] = self.df[col_name].apply(\\n                lambda x: self.sigmoid(x)\\n            )\\n\\n    def transform_cube_root(self, col_names):\\n        \\\"\\\"\\\"\\n        Transform the specified columns by taking the cube root of each value\\n        \\\"\\\"\\\"\\n        for col_name in col_names:\\n            self.df[f\\\"{col_name}_cbrt\\\"] = self.df[col_name].apply(lambda x: np.cbrt(x))\\n\\n\\n# Create an instance of the NumericTransformers class\\nnt = NumericTransformers(df)\\n\\n# Define the columns to transform\\ncols_to_transform = [\\\"no_of_adults\\\", \\\"arrival_month\\\", \\\"no_of_special_requests\\\"]\\n\\n# Apply the transformations to the specified columns\\nnt.transform_sigmoid(cols_to_transform)\\nnt.transform_cube_root(cols_to_transform)\\n\\n# Create a new DataFrame with the transformed features\\nnew_df = nt.df[\\n    [\\n        \\\"no_of_adults_sigmoid\\\",\\n        \\\"no_of_adults_cbrt\\\",\\n        \\\"arrival_month_sigmoid\\\",\\n        \\\"arrival_month_cbrt\\\",\\n        \\\"no_of_special_requests_sigmoid\\\",\\n        \\\"no_of_special_requests_cbrt\\\",\\n    ]\\n]\\n\\n# Display the descriptive summary statistics for each transformation\\nprint(\\\"Descriptive summary statistics for sigmoid transformation:\\\")\\nprint(\\n    new_df[\\n        [\\n            \\\"no_of_adults_sigmoid\\\",\\n            \\\"arrival_month_sigmoid\\\",\\n            \\\"no_of_special_requests_sigmoid\\\",\\n        ]\\n    ].describe()\\n)\\n\\nprint(\\\"\\\")\\n\\nprint(\\\"Descriptive summary statistics for cube root transformation:\\\")\\nprint(\\n    new_df[\\n        [\\\"no_of_adults_cbrt\\\", \\\"arrival_month_cbrt\\\", \\\"no_of_special_requests_cbrt\\\"]\\n    ].describe()\\n)\";\n",
       "                var nbb_cells = Jupyter.notebook.get_cells();\n",
       "                for (var i = 0; i < nbb_cells.length; ++i) {\n",
       "                    if (nbb_cells[i].input_prompt_number == nbb_cell_id) {\n",
       "                        if (nbb_cells[i].get_text() == nbb_unformatted_code) {\n",
       "                             nbb_cells[i].set_text(nbb_formatted_code);\n",
       "                        }\n",
       "                        break;\n",
       "                    }\n",
       "                }\n",
       "            }, 500);\n",
       "            "
      ],
      "text/plain": [
       "<IPython.core.display.Javascript object>"
      ]
     },
     "metadata": {},
     "output_type": "display_data"
    }
   ],
   "source": [
    "class NumericTransformers:\n",
    "    \"\"\"\n",
    "    This class is used to apply 'Sigmoid' and 'Cube root'\n",
    "    transformations to the input data (Vector).\n",
    "    \"\"\"\n",
    "    \n",
    "    def __init__(self, df):\n",
    "        self.df = df\n",
    "        \n",
    "    def sigmoid(self, x):\n",
    "        \"\"\"\n",
    "        Apply a sigmoid function to a scalar value x\n",
    "        \"\"\"\n",
    "        return 1 / (1 + np.exp(-x))\n",
    "    \n",
    "    def transform_sigmoid(self, col_names):\n",
    "        \"\"\"\n",
    "        Transform the specified columns using a sigmoid function\n",
    "        \"\"\"\n",
    "        for col_name in col_names:\n",
    "            self.df[f\"{col_name}_sigmoid\"] = self.df[col_name].apply(lambda x: self.sigmoid(x))\n",
    "    \n",
    "    def transform_cube_root(self, col_names):\n",
    "        \"\"\"\n",
    "        Transform the specified columns by taking the cube root of each value\n",
    "        \"\"\"\n",
    "        for col_name in col_names:\n",
    "            self.df[f\"{col_name}_cbrt\"] = self.df[col_name].apply(lambda x: np.cbrt(x))\n",
    "\n",
    "\n",
    "# Create an instance of the NumericTransformers class\n",
    "nt = NumericTransformers(df)\n",
    "\n",
    "# Define the columns to transform\n",
    "cols_to_transform = ['no_of_adults', 'arrival_month','no_of_special_requests']\n",
    "\n",
    "# Apply the transformations to the specified columns\n",
    "nt.transform_sigmoid(cols_to_transform)\n",
    "nt.transform_cube_root(cols_to_transform)\n",
    "\n",
    "# Create a new DataFrame with the transformed features\n",
    "new_df = nt.df[['no_of_adults_sigmoid', 'no_of_adults_cbrt', 'arrival_month_sigmoid','arrival_month_cbrt',\n",
    "                'no_of_special_requests_sigmoid', 'no_of_special_requests_cbrt']]\n",
    "\n",
    "# Display the descriptive summary statistics for each transformation\n",
    "print('Descriptive summary statistics for sigmoid transformation:')\n",
    "print(new_df[['no_of_adults_sigmoid','arrival_month_sigmoid', 'no_of_special_requests_sigmoid']].describe())\n",
    "\n",
    "print('')\n",
    "\n",
    "print('Descriptive summary statistics for cube root transformation:')\n",
    "print(new_df[['no_of_adults_cbrt', 'arrival_month_cbrt', 'no_of_special_requests_cbrt']].describe())\n"
   ]
  },
  {
   "cell_type": "markdown",
   "id": "f7685faa",
   "metadata": {},
   "source": [
    "## Part b"
   ]
  },
  {
   "cell_type": "code",
   "execution_count": 8,
   "id": "2db96a54",
   "metadata": {},
   "outputs": [
    {
     "data": {
      "text/plain": [
       "<AxesSubplot:>"
      ]
     },
     "execution_count": 8,
     "metadata": {},
     "output_type": "execute_result"
    },
    {
     "data": {
      "image/png": "[encoded data removed]",
      "text/plain": [
       "<Figure size 800x600 with 2 Axes>"
      ]
     },
     "metadata": {},
     "output_type": "display_data"
    },
    {
     "data": {
      "application/javascript": [
       "\n",
       "            setTimeout(function() {\n",
       "                var nbb_cell_id = 8;\n",
       "                var nbb_unformatted_code = \"corr_matrix = df.corr()\\n\\n# plot the heatmap\\nsns.set(rc={\\\"figure.figsize\\\": (8, 6)})\\nsns.set(font_scale=0.6)\\nsns.heatmap(corr_matrix, annot=True)\";\n",
       "                var nbb_formatted_code = \"corr_matrix = df.corr()\\n\\n# plot the heatmap\\nsns.set(rc={\\\"figure.figsize\\\": (8, 6)})\\nsns.set(font_scale=0.6)\\nsns.heatmap(corr_matrix, annot=True)\";\n",
       "                var nbb_cells = Jupyter.notebook.get_cells();\n",
       "                for (var i = 0; i < nbb_cells.length; ++i) {\n",
       "                    if (nbb_cells[i].input_prompt_number == nbb_cell_id) {\n",
       "                        if (nbb_cells[i].get_text() == nbb_unformatted_code) {\n",
       "                             nbb_cells[i].set_text(nbb_formatted_code);\n",
       "                        }\n",
       "                        break;\n",
       "                    }\n",
       "                }\n",
       "            }, 500);\n",
       "            "
      ],
      "text/plain": [
       "<IPython.core.display.Javascript object>"
      ]
     },
     "metadata": {},
     "output_type": "display_data"
    }
   ],
   "source": [
    "corr_matrix = df.corr()\n",
    "\n",
    "# plot the heatmap\n",
    "sns.set(rc={\"figure.figsize\": (8, 6)})\n",
    "sns.set(font_scale=0.6)\n",
    "sns.heatmap(corr_matrix, annot=True)"
   ]
  },
  {
   "cell_type": "markdown",
   "id": "a584bf3e-01a4-49c3-ad12-18dd420ffa0b",
   "metadata": {
    "id": "a584bf3e-01a4-49c3-ad12-18dd420ffa0b"
   },
   "source": [
    "### Qs 3:\n",
    "\n",
    "Given the string shown below\n",
    "\n",
    "```python\n",
    "my_string = (\n",
    "    \"You can call me on this number:(+234) 287 576 3098 or 0808 576 8013. The first number is my personal number. \"\n",
    "    \"Kyle Stevens, one of the company’s researchers, called on companies to buy fake URLs so that they can’t \"\n",
    "    \"be used by scammers for example:'www.barclays-supports.com'.\"\n",
    "    \"https://zadarma.com/en/tariffs/numbers/united-states/mobile/ \"\n",
    "    \"This is not even a valid url www.xyz .stutern.com. I tried calling this number:0803 5771 42 but it's invalid! \"\n",
    "    \"Some random number +1-814-300-8859 which I found on this website:\"\n",
    "    \"https://zadarma.com/en/tariffs/numbers/united-states/mobile/ \"\n",
    "    \"https://drive.google.com/file/d/1oP5Xz-Nrze3cK5p56XS2UcxQN1B-kZs9/view?usp=share_link \"\n",
    ")\n",
    "```\n",
    "a.) Write a RegEx pattern that displays all the valid:\n",
    "\n",
    "    i.) URLs\n",
    "\n",
    "    ii.) phone numbers (11 or more digits)\n",
    "\n",
    "b.) Given the array shown below:\n",
    "\n",
    "```python\n",
    "rng = np.random.default_rng(seed=15)\n",
    "A = rng.random(size=(10, 5))\n",
    "```\n",
    "\n",
    "i.) write a code that **normalizes** the array, `A` using:\n",
    "\n",
    "$$\n",
    "x_{new} = \\frac{x_{i} - x_{min}}{x_{max} - x_{min}}\n",
    "$$\n",
    "\n",
    "* Return the **descriptive statistics** of the normalized array.\n",
    "\n",
    "ii.) Create **histogram** of the normalized array, `A`"
   ]
  },
  {
   "cell_type": "code",
   "execution_count": 9,
   "id": "df783f1e-bd9c-4e14-84d5-22e755b8143d",
   "metadata": {
    "id": "df783f1e-bd9c-4e14-84d5-22e755b8143d"
   },
   "outputs": [
    {
     "data": {
      "application/javascript": [
       "\n",
       "            setTimeout(function() {\n",
       "                var nbb_cell_id = 9;\n",
       "                var nbb_unformatted_code = \"my_string = (\\n    \\\"You can call me on this number:(+234) 287 576 3098 or 0808 576 8013. The first number is my personal number. \\\"\\n    \\\"Kyle Stevens, one of the company\\u2019s researchers, called on companies to buy fake URLs so that they can\\u2019t \\\"\\n    \\\"be used by scammers for example:'www.barclays-supports.com'.\\\"\\n    \\\"https://zadarma.com/en/tariffs/numbers/united-states/mobile/ \\\"\\n    \\\"This is not even a valid url www.xyz .stutern.com. I tried calling this number:0803 5771 42 but it's invalid! \\\"\\n    \\\"Some random number +1-814-300-8859 which I found on this website:\\\"\\n    \\\"https://zadarma.com/en/tariffs/numbers/united-states/mobile/ \\\"\\n    \\\"https://drive.google.com/file/d/1oP5Xz-Nrze3cK5p56XS2UcxQN1B-kZs9/view?usp=share_link \\\"\\n)\";\n",
       "                var nbb_formatted_code = \"my_string = (\\n    \\\"You can call me on this number:(+234) 287 576 3098 or 0808 576 8013. The first number is my personal number. \\\"\\n    \\\"Kyle Stevens, one of the company\\u2019s researchers, called on companies to buy fake URLs so that they can\\u2019t \\\"\\n    \\\"be used by scammers for example:'www.barclays-supports.com'.\\\"\\n    \\\"https://zadarma.com/en/tariffs/numbers/united-states/mobile/ \\\"\\n    \\\"This is not even a valid url www.xyz .stutern.com. I tried calling this number:0803 5771 42 but it's invalid! \\\"\\n    \\\"Some random number +1-814-300-8859 which I found on this website:\\\"\\n    \\\"https://zadarma.com/en/tariffs/numbers/united-states/mobile/ \\\"\\n    \\\"https://drive.google.com/file/d/1oP5Xz-Nrze3cK5p56XS2UcxQN1B-kZs9/view?usp=share_link \\\"\\n)\";\n",
       "                var nbb_cells = Jupyter.notebook.get_cells();\n",
       "                for (var i = 0; i < nbb_cells.length; ++i) {\n",
       "                    if (nbb_cells[i].input_prompt_number == nbb_cell_id) {\n",
       "                        if (nbb_cells[i].get_text() == nbb_unformatted_code) {\n",
       "                             nbb_cells[i].set_text(nbb_formatted_code);\n",
       "                        }\n",
       "                        break;\n",
       "                    }\n",
       "                }\n",
       "            }, 500);\n",
       "            "
      ],
      "text/plain": [
       "<IPython.core.display.Javascript object>"
      ]
     },
     "metadata": {},
     "output_type": "display_data"
    }
   ],
   "source": [
    "my_string = (\n",
    "    \"You can call me on this number:(+234) 287 576 3098 or 0808 576 8013. The first number is my personal number. \"\n",
    "    \"Kyle Stevens, one of the company’s researchers, called on companies to buy fake URLs so that they can’t \"\n",
    "    \"be used by scammers for example:'www.barclays-supports.com'.\"\n",
    "    \"https://zadarma.com/en/tariffs/numbers/united-states/mobile/ \"\n",
    "    \"This is not even a valid url www.xyz .stutern.com. I tried calling this number:0803 5771 42 but it's invalid! \"\n",
    "    \"Some random number +1-814-300-8859 which I found on this website:\"\n",
    "    \"https://zadarma.com/en/tariffs/numbers/united-states/mobile/ \"\n",
    "    \"https://drive.google.com/file/d/1oP5Xz-Nrze3cK5p56XS2UcxQN1B-kZs9/view?usp=share_link \"\n",
    ")"
   ]
  },
  {
   "cell_type": "markdown",
   "id": "66ba944e",
   "metadata": {},
   "source": [
    "## Part a (i)"
   ]
  },
  {
   "cell_type": "code",
   "execution_count": 10,
   "id": "98c1d71c-8356-4287-8038-86e760fce8ea",
   "metadata": {
    "id": "98c1d71c-8356-4287-8038-86e760fce8ea"
   },
   "outputs": [
    {
     "name": "stdout",
     "output_type": "stream",
     "text": [
      "['https://zadarma.com/en/tariffs/numbers/united-states/mobile/', 'https://zadarma.com/en/tariffs/numbers/united-states/mobile/', 'https://drive.google.com/file/d/1oP5Xz-Nrze3cK5p56XS2UcxQN1B-kZs9/view?usp=share_link']\n"
     ]
    },
    {
     "data": {
      "application/javascript": [
       "\n",
       "            setTimeout(function() {\n",
       "                var nbb_cell_id = 10;\n",
       "                var nbb_unformatted_code = \"pattern = r\\\"https?://\\\\S+\\\"\\n\\n# find all matches\\nurls = re.findall(pattern, my_string)\\n\\n# print the URLs\\nprint(urls)\";\n",
       "                var nbb_formatted_code = \"pattern = r\\\"https?://\\\\S+\\\"\\n\\n# find all matches\\nurls = re.findall(pattern, my_string)\\n\\n# print the URLs\\nprint(urls)\";\n",
       "                var nbb_cells = Jupyter.notebook.get_cells();\n",
       "                for (var i = 0; i < nbb_cells.length; ++i) {\n",
       "                    if (nbb_cells[i].input_prompt_number == nbb_cell_id) {\n",
       "                        if (nbb_cells[i].get_text() == nbb_unformatted_code) {\n",
       "                             nbb_cells[i].set_text(nbb_formatted_code);\n",
       "                        }\n",
       "                        break;\n",
       "                    }\n",
       "                }\n",
       "            }, 500);\n",
       "            "
      ],
      "text/plain": [
       "<IPython.core.display.Javascript object>"
      ]
     },
     "metadata": {},
     "output_type": "display_data"
    }
   ],
   "source": [
    "pattern = r\"https?://\\S+\"\n",
    "\n",
    "# find all matches\n",
    "urls = re.findall(pattern, my_string)\n",
    "\n",
    "# print the URLs\n",
    "print(urls)"
   ]
  },
  {
   "cell_type": "markdown",
   "id": "5cdacdc9",
   "metadata": {
    "id": "441eba4d-e7a9-4d79-8b98-3d7c8f8fe8ba"
   },
   "source": [
    "## Part a (ii)"
   ]
  },
  {
   "cell_type": "code",
   "execution_count": 11,
   "id": "bcea7a0c",
   "metadata": {},
   "outputs": [
    {
     "name": "stdout",
     "output_type": "stream",
     "text": [
      "['287 576 3098 ', '0808 576 8013', '814-300-8859 ']\n"
     ]
    },
    {
     "data": {
      "application/javascript": [
       "\n",
       "            setTimeout(function() {\n",
       "                var nbb_cell_id = 11;\n",
       "                var nbb_unformatted_code = \"pattern1 = r\\\"(\\\\+?\\\\d{3,4}\\\\s*\\\\-*\\\\s*\\\\d{3,4}\\\\s*\\\\-*\\\\s*\\\\d{3,4}\\\\s*\\\\-*\\\\s*\\\\d*)\\\"\\n\\nphone = re.findall(pattern1, my_string)\\nprint(phone)\";\n",
       "                var nbb_formatted_code = \"pattern1 = r\\\"(\\\\+?\\\\d{3,4}\\\\s*\\\\-*\\\\s*\\\\d{3,4}\\\\s*\\\\-*\\\\s*\\\\d{3,4}\\\\s*\\\\-*\\\\s*\\\\d*)\\\"\\n\\nphone = re.findall(pattern1, my_string)\\nprint(phone)\";\n",
       "                var nbb_cells = Jupyter.notebook.get_cells();\n",
       "                for (var i = 0; i < nbb_cells.length; ++i) {\n",
       "                    if (nbb_cells[i].input_prompt_number == nbb_cell_id) {\n",
       "                        if (nbb_cells[i].get_text() == nbb_unformatted_code) {\n",
       "                             nbb_cells[i].set_text(nbb_formatted_code);\n",
       "                        }\n",
       "                        break;\n",
       "                    }\n",
       "                }\n",
       "            }, 500);\n",
       "            "
      ],
      "text/plain": [
       "<IPython.core.display.Javascript object>"
      ]
     },
     "metadata": {},
     "output_type": "display_data"
    }
   ],
   "source": [
    "pattern1 = r\"(\\+?\\d{3,4}\\s*\\-*\\s*\\d{3,4}\\s*\\-*\\s*\\d{3,4}\\s*\\-*\\s*\\d*)\"\n",
    "\n",
    "phone = re.findall(pattern1, my_string)\n",
    "print(phone)"
   ]
  },
  {
   "cell_type": "markdown",
   "id": "ae3c09d6",
   "metadata": {},
   "source": [
    "## Part b"
   ]
  },
  {
   "cell_type": "code",
   "execution_count": 12,
   "id": "8be2e760",
   "metadata": {},
   "outputs": [
    {
     "data": {
      "application/javascript": [
       "\n",
       "            setTimeout(function() {\n",
       "                var nbb_cell_id = 12;\n",
       "                var nbb_unformatted_code = \"rng = np.random.default_rng(seed=15)\\nA = rng.random(size=(10, 5))\";\n",
       "                var nbb_formatted_code = \"rng = np.random.default_rng(seed=15)\\nA = rng.random(size=(10, 5))\";\n",
       "                var nbb_cells = Jupyter.notebook.get_cells();\n",
       "                for (var i = 0; i < nbb_cells.length; ++i) {\n",
       "                    if (nbb_cells[i].input_prompt_number == nbb_cell_id) {\n",
       "                        if (nbb_cells[i].get_text() == nbb_unformatted_code) {\n",
       "                             nbb_cells[i].set_text(nbb_formatted_code);\n",
       "                        }\n",
       "                        break;\n",
       "                    }\n",
       "                }\n",
       "            }, 500);\n",
       "            "
      ],
      "text/plain": [
       "<IPython.core.display.Javascript object>"
      ]
     },
     "metadata": {},
     "output_type": "display_data"
    }
   ],
   "source": [
    "rng = np.random.default_rng(seed=15)\n",
    "A = rng.random(size=(10, 5))"
   ]
  },
  {
   "cell_type": "markdown",
   "id": "afca83dd",
   "metadata": {},
   "source": [
    "### b(i)"
   ]
  },
  {
   "cell_type": "code",
   "execution_count": 13,
   "id": "b8f69ec3",
   "metadata": {},
   "outputs": [
    {
     "name": "stdout",
     "output_type": "stream",
     "text": [
      "               0          1          2          3          4\n",
      "count  10.000000  10.000000  10.000000  10.000000  10.000000\n",
      "mean    0.489447   0.546130   0.448717   0.397542   0.646515\n",
      "std     0.289048   0.304508   0.271435   0.354210   0.333582\n",
      "min     0.133545   0.007978   0.059527   0.022381   0.000000\n",
      "25%     0.269679   0.365662   0.252205   0.114887   0.410454\n",
      "50%     0.407325   0.549814   0.405082   0.330894   0.705488\n",
      "75%     0.773544   0.807233   0.585977   0.518566   0.929375\n",
      "max     0.909155   0.929447   0.919950   0.990693   1.000000\n"
     ]
    },
    {
     "data": {
      "application/javascript": [
       "\n",
       "            setTimeout(function() {\n",
       "                var nbb_cell_id = 13;\n",
       "                var nbb_unformatted_code = \"A_norm = (A - np.min(A)) / (np.max(A) - np.min(A))\\n\\n# descriptive statistics of the normalised array\\nprint(pd.DataFrame(A_norm).describe())\";\n",
       "                var nbb_formatted_code = \"A_norm = (A - np.min(A)) / (np.max(A) - np.min(A))\\n\\n# descriptive statistics of the normalised array\\nprint(pd.DataFrame(A_norm).describe())\";\n",
       "                var nbb_cells = Jupyter.notebook.get_cells();\n",
       "                for (var i = 0; i < nbb_cells.length; ++i) {\n",
       "                    if (nbb_cells[i].input_prompt_number == nbb_cell_id) {\n",
       "                        if (nbb_cells[i].get_text() == nbb_unformatted_code) {\n",
       "                             nbb_cells[i].set_text(nbb_formatted_code);\n",
       "                        }\n",
       "                        break;\n",
       "                    }\n",
       "                }\n",
       "            }, 500);\n",
       "            "
      ],
      "text/plain": [
       "<IPython.core.display.Javascript object>"
      ]
     },
     "metadata": {},
     "output_type": "display_data"
    }
   ],
   "source": [
    "A_norm = (A - np.min(A)) / (np.max(A) - np.min(A))\n",
    "\n",
    "# descriptive statistics of the normalised array\n",
    "print(pd.DataFrame(A_norm).describe())"
   ]
  },
  {
   "cell_type": "markdown",
   "id": "c99ed30e",
   "metadata": {},
   "source": [
    "### b(ii)"
   ]
  },
  {
   "cell_type": "code",
   "execution_count": 14,
   "id": "afe3a3f5",
   "metadata": {},
   "outputs": [
    {
     "data": {
      "text/plain": [
       "(array([[0., 2., 1., 2., 1., 0., 0., 3., 0., 1.],\n",
       "        [1., 0., 1., 2., 1., 0., 1., 1., 2., 1.],\n",
       "        [1., 1., 1., 2., 1., 2., 0., 1., 0., 1.],\n",
       "        [3., 0., 2., 0., 2., 1., 0., 0., 0., 2.],\n",
       "        [1., 0., 0., 2., 0., 1., 1., 1., 1., 3.]]),\n",
       " array([0. , 0.1, 0.2, 0.3, 0.4, 0.5, 0.6, 0.7, 0.8, 0.9, 1. ]),\n",
       " <a list of 5 BarContainer objects>)"
      ]
     },
     "execution_count": 14,
     "metadata": {},
     "output_type": "execute_result"
    },
    {
     "data": {
      "image/png": "[encoded data removed]",
      "text/plain": [
       "<Figure size 800x600 with 1 Axes>"
      ]
     },
     "metadata": {},
     "output_type": "display_data"
    },
    {
     "data": {
      "application/javascript": [
       "\n",
       "            setTimeout(function() {\n",
       "                var nbb_cell_id = 14;\n",
       "                var nbb_unformatted_code = \"plt.hist(A_norm, bins=10)\";\n",
       "                var nbb_formatted_code = \"plt.hist(A_norm, bins=10)\";\n",
       "                var nbb_cells = Jupyter.notebook.get_cells();\n",
       "                for (var i = 0; i < nbb_cells.length; ++i) {\n",
       "                    if (nbb_cells[i].input_prompt_number == nbb_cell_id) {\n",
       "                        if (nbb_cells[i].get_text() == nbb_unformatted_code) {\n",
       "                             nbb_cells[i].set_text(nbb_formatted_code);\n",
       "                        }\n",
       "                        break;\n",
       "                    }\n",
       "                }\n",
       "            }, 500);\n",
       "            "
      ],
      "text/plain": [
       "<IPython.core.display.Javascript object>"
      ]
     },
     "metadata": {},
     "output_type": "display_data"
    }
   ],
   "source": [
    "plt.hist(A_norm, bins=10)"
   ]
  },
  {
   "cell_type": "markdown",
   "id": "e276adc7-89d9-4e69-8436-9336be6c5304",
   "metadata": {
    "id": "e276adc7-89d9-4e69-8436-9336be6c5304"
   },
   "source": [
    "### Qs 4\n",
    "\n",
    "#### The data can be found [here](https://drive.google.com/file/d/1oP5Xz-Nrze3cK5p56XS2UcxQN1B-kZs9/view?usp=share_link)\n",
    "\n",
    "a.) Clean the following columns: `price`, `SSD(GB)`, `warranty(years)`, `Display(inch)` \\\n",
    "Note: Return numerical values for the cleaned columns with the corresponding unit as the appended to the column name. \\\n",
    "e.g. \\\n",
    "SSD(GB) retuns: \\\n",
    "`512 GB HDD|512 GB SSD`: `512` \\\n",
    "The Display(inch) retuns: \\\n",
    "`38.1 cm (15 inch) Display`: `15`\n",
    "\n",
    "* You might need to create **new columns** with the corresponding **column names**.\n",
    "* **To validate your result, run**:\n",
    "\n",
    "```python\n",
    "df[[\"price\", \"SSD(GB)\", \"warranty(years)\", \"Display(inch)\"]].sample(n=10, random_state=10)\n",
    "```\n",
    "\n",
    "b.) \n",
    "\n",
    "i.) Create a new column called `RAM_type` which extract the type of RAM. \\\n",
    "e.g. \\\n",
    "`32 GB LPDDR5 RAM`: `LPDDR5`\n",
    "\n",
    "ii.) Create a new column called `is_SSD` which checks whether the `SSD` storage is `SSD` or not. It returns True if it's an SSD storage otherwise, False.\n",
    "\n",
    "c.) Using the approriate column, create an new column called `Brand_name` by extracting the brand names. Validate your result by displaying the unique values in `Brand_name`"
   ]
  },
  {
   "cell_type": "code",
   "execution_count": 15,
   "id": "8ade9e1e-230c-461b-88ea-af063c723c6d",
   "metadata": {
    "id": "8ade9e1e-230c-461b-88ea-af063c723c6d"
   },
   "outputs": [
    {
     "data": {
      "text/html": [
       "<div>\n",
       "<style scoped>\n",
       "    .dataframe tbody tr th:only-of-type {\n",
       "        vertical-align: middle;\n",
       "    }\n",
       "\n",
       "    .dataframe tbody tr th {\n",
       "        vertical-align: top;\n",
       "    }\n",
       "\n",
       "    .dataframe thead th {\n",
       "        text-align: right;\n",
       "    }\n",
       "</style>\n",
       "<table border=\"1\" class=\"dataframe\">\n",
       "  <thead>\n",
       "    <tr style=\"text-align: right;\">\n",
       "      <th></th>\n",
       "      <th>Unnamed: 0</th>\n",
       "      <th>title</th>\n",
       "      <th>price</th>\n",
       "      <th>discount</th>\n",
       "      <th>Processor</th>\n",
       "      <th>RAM</th>\n",
       "      <th>OS</th>\n",
       "      <th>SSD</th>\n",
       "      <th>Display</th>\n",
       "      <th>In_build_sw</th>\n",
       "      <th>warranty</th>\n",
       "    </tr>\n",
       "  </thead>\n",
       "  <tbody>\n",
       "    <tr>\n",
       "      <th>0</th>\n",
       "      <td>0</td>\n",
       "      <td>DELL Vostro Core i3 11th Gen - (8 GB/1 TB HDD/256 GB SSD/Windows 11 Home) Vostro 3510 Thin and Light L...</td>\n",
       "      <td>₹37,990</td>\n",
       "      <td>₹58,48935% off</td>\n",
       "      <td>Processor: Intel i3-1115G4 (Base- 1.7 GHz &amp; Turbo up to 4.10 GHz) 2 Cores</td>\n",
       "      <td>RAM &amp; Storage: 8GB DDR4 &amp; 1TB HDD + 256GB SSD</td>\n",
       "      <td>Graphics &amp; Keyboard: Integrated &amp; Standard Keyboard</td>\n",
       "      <td>Display: 15.6\" FHD WVA AG Narrow Border</td>\n",
       "      <td>Intel Core i3 Processor (11th Gen)</td>\n",
       "      <td>NaN</td>\n",
       "      <td>8 GB DDR4 RAM</td>\n",
       "    </tr>\n",
       "    <tr>\n",
       "      <th>1</th>\n",
       "      <td>1</td>\n",
       "      <td>HP 14s Intel Core i3 11th Gen - (8 GB/256 GB SSD/Windows 11 Home) 14s - dy2507TU Thin and Light Laptop</td>\n",
       "      <td>₹35,490</td>\n",
       "      <td>₹47,20624% off</td>\n",
       "      <td>Intel Core i3 Processor (11th Gen)</td>\n",
       "      <td>8 GB DDR4 RAM</td>\n",
       "      <td>64 bit Windows 11 Operating System</td>\n",
       "      <td>256 GB SSD</td>\n",
       "      <td>35.56 cm (14 inch) Display</td>\n",
       "      <td>NaN</td>\n",
       "      <td>1 Year Onsite Warranty</td>\n",
       "    </tr>\n",
       "    <tr>\n",
       "      <th>2</th>\n",
       "      <td>2</td>\n",
       "      <td>Lenovo V15 G2 Core i3 11th Gen - (8 GB/512 GB SSD/Windows 11 Home) V15 ITL G2 Laptop</td>\n",
       "      <td>₹33,999</td>\n",
       "      <td>₹59,76043% off</td>\n",
       "      <td>Intel Core i3 Processor (11th Gen)</td>\n",
       "      <td>8 GB DDR4 RAM</td>\n",
       "      <td>64 bit Windows 11 Operating System</td>\n",
       "      <td>512 GB SSD</td>\n",
       "      <td>39.62 cm (15.6 Inch) Display</td>\n",
       "      <td>No</td>\n",
       "      <td>1 Year Onsite Warranty + 1 Year Accidental Damage Protection Add On</td>\n",
       "    </tr>\n",
       "    <tr>\n",
       "      <th>3</th>\n",
       "      <td>3</td>\n",
       "      <td>HP 15s Intel Core i3 12th Gen - (8 GB/512 GB SSD/Windows 11 Home) 15s-fq5007TU Thin and Light Laptop</td>\n",
       "      <td>₹45,490</td>\n",
       "      <td>₹56,26019% off</td>\n",
       "      <td>Intel Core i3 Processor (12th Gen)</td>\n",
       "      <td>8 GB DDR4 RAM</td>\n",
       "      <td>64 bit Windows 11 Operating System</td>\n",
       "      <td>512 GB SSD</td>\n",
       "      <td>39.62 cm (15.6 Inch) Display</td>\n",
       "      <td>Microsoft Office Home &amp; Student 2021</td>\n",
       "      <td>1 Year Onsite Warranty</td>\n",
       "    </tr>\n",
       "    <tr>\n",
       "      <th>4</th>\n",
       "      <td>4</td>\n",
       "      <td>ASUS VivoBook 15 (2022) Core i3 10th Gen - (8 GB/512 GB SSD/Windows 11 Home) X515JA-EJ362WS | X515JA-E...</td>\n",
       "      <td>₹33,990</td>\n",
       "      <td>₹45,99026% off</td>\n",
       "      <td>Intel Core i3 Processor (10th Gen)</td>\n",
       "      <td>8 GB DDR4 RAM</td>\n",
       "      <td>64 bit Windows 11 Operating System</td>\n",
       "      <td>512 GB SSD</td>\n",
       "      <td>39.62 cm (15.6 inch) Display</td>\n",
       "      <td>Office Home and Student 2021</td>\n",
       "      <td>1 Year Onsite Warranty</td>\n",
       "    </tr>\n",
       "  </tbody>\n",
       "</table>\n",
       "</div>"
      ],
      "text/plain": [
       "   Unnamed: 0  \\\n",
       "0           0   \n",
       "1           1   \n",
       "2           2   \n",
       "3           3   \n",
       "4           4   \n",
       "\n",
       "                                                                                                       title  \\\n",
       "0  DELL Vostro Core i3 11th Gen - (8 GB/1 TB HDD/256 GB SSD/Windows 11 Home) Vostro 3510 Thin and Light L...   \n",
       "1     HP 14s Intel Core i3 11th Gen - (8 GB/256 GB SSD/Windows 11 Home) 14s - dy2507TU Thin and Light Laptop   \n",
       "2                       Lenovo V15 G2 Core i3 11th Gen - (8 GB/512 GB SSD/Windows 11 Home) V15 ITL G2 Laptop   \n",
       "3       HP 15s Intel Core i3 12th Gen - (8 GB/512 GB SSD/Windows 11 Home) 15s-fq5007TU Thin and Light Laptop   \n",
       "4  ASUS VivoBook 15 (2022) Core i3 10th Gen - (8 GB/512 GB SSD/Windows 11 Home) X515JA-EJ362WS | X515JA-E...   \n",
       "\n",
       "     price        discount  \\\n",
       "0  ₹37,990  ₹58,48935% off   \n",
       "1  ₹35,490  ₹47,20624% off   \n",
       "2  ₹33,999  ₹59,76043% off   \n",
       "3  ₹45,490  ₹56,26019% off   \n",
       "4  ₹33,990  ₹45,99026% off   \n",
       "\n",
       "                                                                   Processor  \\\n",
       "0  Processor: Intel i3-1115G4 (Base- 1.7 GHz & Turbo up to 4.10 GHz) 2 Cores   \n",
       "1                                         Intel Core i3 Processor (11th Gen)   \n",
       "2                                         Intel Core i3 Processor (11th Gen)   \n",
       "3                                         Intel Core i3 Processor (12th Gen)   \n",
       "4                                         Intel Core i3 Processor (10th Gen)   \n",
       "\n",
       "                                             RAM  \\\n",
       "0  RAM & Storage: 8GB DDR4 & 1TB HDD + 256GB SSD   \n",
       "1                                  8 GB DDR4 RAM   \n",
       "2                                  8 GB DDR4 RAM   \n",
       "3                                  8 GB DDR4 RAM   \n",
       "4                                  8 GB DDR4 RAM   \n",
       "\n",
       "                                                    OS  \\\n",
       "0  Graphics & Keyboard: Integrated & Standard Keyboard   \n",
       "1                   64 bit Windows 11 Operating System   \n",
       "2                   64 bit Windows 11 Operating System   \n",
       "3                   64 bit Windows 11 Operating System   \n",
       "4                   64 bit Windows 11 Operating System   \n",
       "\n",
       "                                       SSD  \\\n",
       "0  Display: 15.6\" FHD WVA AG Narrow Border   \n",
       "1                               256 GB SSD   \n",
       "2                               512 GB SSD   \n",
       "3                               512 GB SSD   \n",
       "4                               512 GB SSD   \n",
       "\n",
       "                              Display                           In_build_sw  \\\n",
       "0  Intel Core i3 Processor (11th Gen)                                   NaN   \n",
       "1          35.56 cm (14 inch) Display                                   NaN   \n",
       "2        39.62 cm (15.6 Inch) Display                                    No   \n",
       "3        39.62 cm (15.6 Inch) Display  Microsoft Office Home & Student 2021   \n",
       "4        39.62 cm (15.6 inch) Display          Office Home and Student 2021   \n",
       "\n",
       "                                                              warranty  \n",
       "0                                                        8 GB DDR4 RAM  \n",
       "1                                               1 Year Onsite Warranty  \n",
       "2  1 Year Onsite Warranty + 1 Year Accidental Damage Protection Add On  \n",
       "3                                               1 Year Onsite Warranty  \n",
       "4                                               1 Year Onsite Warranty  "
      ]
     },
     "execution_count": 15,
     "metadata": {},
     "output_type": "execute_result"
    },
    {
     "data": {
      "application/javascript": [
       "\n",
       "            setTimeout(function() {\n",
       "                var nbb_cell_id = 15;\n",
       "                var nbb_unformatted_code = \"df1 = pd.read_csv(\\\"laptops.csv\\\")\\ndf1.head()\";\n",
       "                var nbb_formatted_code = \"df1 = pd.read_csv(\\\"laptops.csv\\\")\\ndf1.head()\";\n",
       "                var nbb_cells = Jupyter.notebook.get_cells();\n",
       "                for (var i = 0; i < nbb_cells.length; ++i) {\n",
       "                    if (nbb_cells[i].input_prompt_number == nbb_cell_id) {\n",
       "                        if (nbb_cells[i].get_text() == nbb_unformatted_code) {\n",
       "                             nbb_cells[i].set_text(nbb_formatted_code);\n",
       "                        }\n",
       "                        break;\n",
       "                    }\n",
       "                }\n",
       "            }, 500);\n",
       "            "
      ],
      "text/plain": [
       "<IPython.core.display.Javascript object>"
      ]
     },
     "metadata": {},
     "output_type": "display_data"
    }
   ],
   "source": [
    "df1 = pd.read_csv(\"laptops.csv\")\n",
    "df1.head()"
   ]
  },
  {
   "cell_type": "markdown",
   "id": "1a6e6c52",
   "metadata": {},
   "source": [
    "## Part a"
   ]
  },
  {
   "cell_type": "code",
   "execution_count": 16,
   "id": "8071a5a7",
   "metadata": {},
   "outputs": [
    {
     "data": {
      "text/plain": [
       "array(['256', '512', '128', nan], dtype=object)"
      ]
     },
     "execution_count": 16,
     "metadata": {},
     "output_type": "execute_result"
    },
    {
     "data": {
      "application/javascript": [
       "\n",
       "            setTimeout(function() {\n",
       "                var nbb_cell_id = 16;\n",
       "                var nbb_unformatted_code = \"df1 = df1[df1[\\\"SSD\\\"].str.contains(\\\"SSD\\\", case=False)]\\nssd_pat = r\\\"(\\\\d+)\\\\s*(?:GB|gb)\\\"\\ndf1[\\\"SSD_GB\\\"] = df1[\\\"SSD\\\"].str.extract(ssd_pat)\\ndf1.SSD_GB.unique()\";\n",
       "                var nbb_formatted_code = \"df1 = df1[df1[\\\"SSD\\\"].str.contains(\\\"SSD\\\", case=False)]\\nssd_pat = r\\\"(\\\\d+)\\\\s*(?:GB|gb)\\\"\\ndf1[\\\"SSD_GB\\\"] = df1[\\\"SSD\\\"].str.extract(ssd_pat)\\ndf1.SSD_GB.unique()\";\n",
       "                var nbb_cells = Jupyter.notebook.get_cells();\n",
       "                for (var i = 0; i < nbb_cells.length; ++i) {\n",
       "                    if (nbb_cells[i].input_prompt_number == nbb_cell_id) {\n",
       "                        if (nbb_cells[i].get_text() == nbb_unformatted_code) {\n",
       "                             nbb_cells[i].set_text(nbb_formatted_code);\n",
       "                        }\n",
       "                        break;\n",
       "                    }\n",
       "                }\n",
       "            }, 500);\n",
       "            "
      ],
      "text/plain": [
       "<IPython.core.display.Javascript object>"
      ]
     },
     "metadata": {},
     "output_type": "display_data"
    }
   ],
   "source": [
    "df1 = df1[df1[\"SSD\"].str.contains(\"SSD\", case=False)]\n",
    "ssd_pat = r\"(\\d+)\\s*(?:GB|gb)\"\n",
    "df1[\"SSD_GB\"] = df1[\"SSD\"].str.extract(ssd_pat)\n",
    "df1.SSD_GB.unique()"
   ]
  },
  {
   "cell_type": "code",
   "execution_count": 17,
   "id": "cc3625f5",
   "metadata": {},
   "outputs": [
    {
     "data": {
      "text/plain": [
       "array(['14', nan, '15.6', '13.3', '17.3', '16', '16.2', '15', '14.1',\n",
       "       '16.1', '14.2', '13.4', '14.5', '13.5', '13', '12'], dtype=object)"
      ]
     },
     "execution_count": 17,
     "metadata": {},
     "output_type": "execute_result"
    },
    {
     "data": {
      "application/javascript": [
       "\n",
       "            setTimeout(function() {\n",
       "                var nbb_cell_id = 17;\n",
       "                var nbb_unformatted_code = \"dis_pat = r\\\"(\\\\d+(?:\\\\.\\\\d+)?)\\\\s*inch.*Display\\\"\\ndf1[\\\"Display_inch\\\"] = df1[\\\"Display\\\"].str.extract(dis_pat)\\ndf1.Display_inch.unique()\";\n",
       "                var nbb_formatted_code = \"dis_pat = r\\\"(\\\\d+(?:\\\\.\\\\d+)?)\\\\s*inch.*Display\\\"\\ndf1[\\\"Display_inch\\\"] = df1[\\\"Display\\\"].str.extract(dis_pat)\\ndf1.Display_inch.unique()\";\n",
       "                var nbb_cells = Jupyter.notebook.get_cells();\n",
       "                for (var i = 0; i < nbb_cells.length; ++i) {\n",
       "                    if (nbb_cells[i].input_prompt_number == nbb_cell_id) {\n",
       "                        if (nbb_cells[i].get_text() == nbb_unformatted_code) {\n",
       "                             nbb_cells[i].set_text(nbb_formatted_code);\n",
       "                        }\n",
       "                        break;\n",
       "                    }\n",
       "                }\n",
       "            }, 500);\n",
       "            "
      ],
      "text/plain": [
       "<IPython.core.display.Javascript object>"
      ]
     },
     "metadata": {},
     "output_type": "display_data"
    }
   ],
   "source": [
    "dis_pat = r\"(\\d+(?:\\.\\d+)?)\\s*inch.*Display\"\n",
    "df1[\"Display_inch\"] = df1[\"Display\"].str.extract(dis_pat)\n",
    "df1.Display_inch.unique()"
   ]
  },
  {
   "cell_type": "code",
   "execution_count": 18,
   "id": "2cdd8375",
   "metadata": {},
   "outputs": [
    {
     "data": {
      "text/html": [
       "<div>\n",
       "<style scoped>\n",
       "    .dataframe tbody tr th:only-of-type {\n",
       "        vertical-align: middle;\n",
       "    }\n",
       "\n",
       "    .dataframe tbody tr th {\n",
       "        vertical-align: top;\n",
       "    }\n",
       "\n",
       "    .dataframe thead th {\n",
       "        text-align: right;\n",
       "    }\n",
       "</style>\n",
       "<table border=\"1\" class=\"dataframe\">\n",
       "  <thead>\n",
       "    <tr style=\"text-align: right;\">\n",
       "      <th></th>\n",
       "      <th>Unnamed: 0</th>\n",
       "      <th>title</th>\n",
       "      <th>price</th>\n",
       "      <th>discount</th>\n",
       "      <th>Processor</th>\n",
       "      <th>RAM</th>\n",
       "      <th>OS</th>\n",
       "      <th>SSD</th>\n",
       "      <th>Display</th>\n",
       "      <th>In_build_sw</th>\n",
       "      <th>warranty</th>\n",
       "      <th>SSD_GB</th>\n",
       "      <th>Display_inch</th>\n",
       "    </tr>\n",
       "  </thead>\n",
       "  <tbody>\n",
       "    <tr>\n",
       "      <th>1</th>\n",
       "      <td>1</td>\n",
       "      <td>HP 14s Intel Core i3 11th Gen - (8 GB/256 GB SSD/Windows 11 Home) 14s - dy2507TU Thin and Light Laptop</td>\n",
       "      <td>₹35,490</td>\n",
       "      <td>₹47,20624% off</td>\n",
       "      <td>Intel Core i3 Processor (11th Gen)</td>\n",
       "      <td>8 GB DDR4 RAM</td>\n",
       "      <td>64 bit Windows 11 Operating System</td>\n",
       "      <td>256 GB SSD</td>\n",
       "      <td>35.56 cm (14 inch) Display</td>\n",
       "      <td>NaN</td>\n",
       "      <td>1 Year Onsite Warranty</td>\n",
       "      <td>256</td>\n",
       "      <td>14</td>\n",
       "    </tr>\n",
       "    <tr>\n",
       "      <th>2</th>\n",
       "      <td>2</td>\n",
       "      <td>Lenovo V15 G2 Core i3 11th Gen - (8 GB/512 GB SSD/Windows 11 Home) V15 ITL G2 Laptop</td>\n",
       "      <td>₹33,999</td>\n",
       "      <td>₹59,76043% off</td>\n",
       "      <td>Intel Core i3 Processor (11th Gen)</td>\n",
       "      <td>8 GB DDR4 RAM</td>\n",
       "      <td>64 bit Windows 11 Operating System</td>\n",
       "      <td>512 GB SSD</td>\n",
       "      <td>39.62 cm (15.6 Inch) Display</td>\n",
       "      <td>No</td>\n",
       "      <td>1 Year Onsite Warranty + 1 Year Accidental Damage Protection Add On</td>\n",
       "      <td>512</td>\n",
       "      <td>NaN</td>\n",
       "    </tr>\n",
       "    <tr>\n",
       "      <th>3</th>\n",
       "      <td>3</td>\n",
       "      <td>HP 15s Intel Core i3 12th Gen - (8 GB/512 GB SSD/Windows 11 Home) 15s-fq5007TU Thin and Light Laptop</td>\n",
       "      <td>₹45,490</td>\n",
       "      <td>₹56,26019% off</td>\n",
       "      <td>Intel Core i3 Processor (12th Gen)</td>\n",
       "      <td>8 GB DDR4 RAM</td>\n",
       "      <td>64 bit Windows 11 Operating System</td>\n",
       "      <td>512 GB SSD</td>\n",
       "      <td>39.62 cm (15.6 Inch) Display</td>\n",
       "      <td>Microsoft Office Home &amp; Student 2021</td>\n",
       "      <td>1 Year Onsite Warranty</td>\n",
       "      <td>512</td>\n",
       "      <td>NaN</td>\n",
       "    </tr>\n",
       "    <tr>\n",
       "      <th>4</th>\n",
       "      <td>4</td>\n",
       "      <td>ASUS VivoBook 15 (2022) Core i3 10th Gen - (8 GB/512 GB SSD/Windows 11 Home) X515JA-EJ362WS | X515JA-E...</td>\n",
       "      <td>₹33,990</td>\n",
       "      <td>₹45,99026% off</td>\n",
       "      <td>Intel Core i3 Processor (10th Gen)</td>\n",
       "      <td>8 GB DDR4 RAM</td>\n",
       "      <td>64 bit Windows 11 Operating System</td>\n",
       "      <td>512 GB SSD</td>\n",
       "      <td>39.62 cm (15.6 inch) Display</td>\n",
       "      <td>Office Home and Student 2021</td>\n",
       "      <td>1 Year Onsite Warranty</td>\n",
       "      <td>512</td>\n",
       "      <td>15.6</td>\n",
       "    </tr>\n",
       "    <tr>\n",
       "      <th>5</th>\n",
       "      <td>5</td>\n",
       "      <td>ASUS TUF Gaming A17 with 90Whr Battery Ryzen 7 Octa Core AMD R7-4800H - (8 GB/512 GB SSD/Windows 11 Ho...</td>\n",
       "      <td>₹67,990</td>\n",
       "      <td>₹94,99028% off</td>\n",
       "      <td>AMD Ryzen 7 Octa Core Processor</td>\n",
       "      <td>8 GB DDR4 RAM</td>\n",
       "      <td>64 bit Windows 11 Operating System</td>\n",
       "      <td>512 GB SSD</td>\n",
       "      <td>43.94 cm (17.3 Inch) Display</td>\n",
       "      <td>NaN</td>\n",
       "      <td>1 Year onsite warranty</td>\n",
       "      <td>512</td>\n",
       "      <td>NaN</td>\n",
       "    </tr>\n",
       "  </tbody>\n",
       "</table>\n",
       "</div>"
      ],
      "text/plain": [
       "   Unnamed: 0  \\\n",
       "1           1   \n",
       "2           2   \n",
       "3           3   \n",
       "4           4   \n",
       "5           5   \n",
       "\n",
       "                                                                                                       title  \\\n",
       "1     HP 14s Intel Core i3 11th Gen - (8 GB/256 GB SSD/Windows 11 Home) 14s - dy2507TU Thin and Light Laptop   \n",
       "2                       Lenovo V15 G2 Core i3 11th Gen - (8 GB/512 GB SSD/Windows 11 Home) V15 ITL G2 Laptop   \n",
       "3       HP 15s Intel Core i3 12th Gen - (8 GB/512 GB SSD/Windows 11 Home) 15s-fq5007TU Thin and Light Laptop   \n",
       "4  ASUS VivoBook 15 (2022) Core i3 10th Gen - (8 GB/512 GB SSD/Windows 11 Home) X515JA-EJ362WS | X515JA-E...   \n",
       "5  ASUS TUF Gaming A17 with 90Whr Battery Ryzen 7 Octa Core AMD R7-4800H - (8 GB/512 GB SSD/Windows 11 Ho...   \n",
       "\n",
       "     price        discount                           Processor            RAM  \\\n",
       "1  ₹35,490  ₹47,20624% off  Intel Core i3 Processor (11th Gen)  8 GB DDR4 RAM   \n",
       "2  ₹33,999  ₹59,76043% off  Intel Core i3 Processor (11th Gen)  8 GB DDR4 RAM   \n",
       "3  ₹45,490  ₹56,26019% off  Intel Core i3 Processor (12th Gen)  8 GB DDR4 RAM   \n",
       "4  ₹33,990  ₹45,99026% off  Intel Core i3 Processor (10th Gen)  8 GB DDR4 RAM   \n",
       "5  ₹67,990  ₹94,99028% off     AMD Ryzen 7 Octa Core Processor  8 GB DDR4 RAM   \n",
       "\n",
       "                                   OS         SSD  \\\n",
       "1  64 bit Windows 11 Operating System  256 GB SSD   \n",
       "2  64 bit Windows 11 Operating System  512 GB SSD   \n",
       "3  64 bit Windows 11 Operating System  512 GB SSD   \n",
       "4  64 bit Windows 11 Operating System  512 GB SSD   \n",
       "5  64 bit Windows 11 Operating System  512 GB SSD   \n",
       "\n",
       "                        Display                           In_build_sw  \\\n",
       "1    35.56 cm (14 inch) Display                                   NaN   \n",
       "2  39.62 cm (15.6 Inch) Display                                    No   \n",
       "3  39.62 cm (15.6 Inch) Display  Microsoft Office Home & Student 2021   \n",
       "4  39.62 cm (15.6 inch) Display          Office Home and Student 2021   \n",
       "5  43.94 cm (17.3 Inch) Display                                   NaN   \n",
       "\n",
       "                                                              warranty SSD_GB  \\\n",
       "1                                               1 Year Onsite Warranty    256   \n",
       "2  1 Year Onsite Warranty + 1 Year Accidental Damage Protection Add On    512   \n",
       "3                                               1 Year Onsite Warranty    512   \n",
       "4                                               1 Year Onsite Warranty    512   \n",
       "5                                               1 Year onsite warranty    512   \n",
       "\n",
       "  Display_inch  \n",
       "1           14  \n",
       "2          NaN  \n",
       "3          NaN  \n",
       "4         15.6  \n",
       "5          NaN  "
      ]
     },
     "execution_count": 18,
     "metadata": {},
     "output_type": "execute_result"
    },
    {
     "data": {
      "application/javascript": [
       "\n",
       "            setTimeout(function() {\n",
       "                var nbb_cell_id = 18;\n",
       "                var nbb_unformatted_code = \"mask = df1[\\\"warranty\\\"].str.contains(\\\"warranty\\\", case=False, na=False)\\ndf1[\\\"warranty\\\"] = np.where(mask, df1[\\\"warranty\\\"], np.nan)\\ndf1.head()\";\n",
       "                var nbb_formatted_code = \"mask = df1[\\\"warranty\\\"].str.contains(\\\"warranty\\\", case=False, na=False)\\ndf1[\\\"warranty\\\"] = np.where(mask, df1[\\\"warranty\\\"], np.nan)\\ndf1.head()\";\n",
       "                var nbb_cells = Jupyter.notebook.get_cells();\n",
       "                for (var i = 0; i < nbb_cells.length; ++i) {\n",
       "                    if (nbb_cells[i].input_prompt_number == nbb_cell_id) {\n",
       "                        if (nbb_cells[i].get_text() == nbb_unformatted_code) {\n",
       "                             nbb_cells[i].set_text(nbb_formatted_code);\n",
       "                        }\n",
       "                        break;\n",
       "                    }\n",
       "                }\n",
       "            }, 500);\n",
       "            "
      ],
      "text/plain": [
       "<IPython.core.display.Javascript object>"
      ]
     },
     "metadata": {},
     "output_type": "display_data"
    }
   ],
   "source": [
    "mask = df1[\"warranty\"].str.contains(\"warranty\", case=False, na=False)\n",
    "df1[\"warranty\"] = np.where(mask, df1[\"warranty\"], np.nan)\n",
    "df1.head()"
   ]
  },
  {
   "cell_type": "markdown",
   "id": "28da9c9d",
   "metadata": {},
   "source": [
    "## Part b"
   ]
  },
  {
   "cell_type": "markdown",
   "id": "1a238c52",
   "metadata": {},
   "source": [
    "### b(i)"
   ]
  },
  {
   "cell_type": "code",
   "execution_count": 19,
   "id": "052429c9",
   "metadata": {
    "scrolled": false
   },
   "outputs": [
    {
     "data": {
      "text/plain": [
       "array(['DDR4', 'LPDDR4X', 'DDR5', 'LPDDR5', 'Unified', 'LPDDR4', 'DDR3',\n",
       "       'LPDDR3', nan], dtype=object)"
      ]
     },
     "execution_count": 19,
     "metadata": {},
     "output_type": "execute_result"
    },
    {
     "data": {
      "application/javascript": [
       "\n",
       "            setTimeout(function() {\n",
       "                var nbb_cell_id = 19;\n",
       "                var nbb_unformatted_code = \"ram_pattern = r\\\"\\\\b\\\\d+\\\\s*(?:GB|gb)\\\\s+(\\\\w+)\\\\b\\\"\\ndf1[\\\"RAM_type\\\"] = df1[\\\"RAM\\\"].str.extract(ram_pattern)\\ndf1.RAM_type.unique()\";\n",
       "                var nbb_formatted_code = \"ram_pattern = r\\\"\\\\b\\\\d+\\\\s*(?:GB|gb)\\\\s+(\\\\w+)\\\\b\\\"\\ndf1[\\\"RAM_type\\\"] = df1[\\\"RAM\\\"].str.extract(ram_pattern)\\ndf1.RAM_type.unique()\";\n",
       "                var nbb_cells = Jupyter.notebook.get_cells();\n",
       "                for (var i = 0; i < nbb_cells.length; ++i) {\n",
       "                    if (nbb_cells[i].input_prompt_number == nbb_cell_id) {\n",
       "                        if (nbb_cells[i].get_text() == nbb_unformatted_code) {\n",
       "                             nbb_cells[i].set_text(nbb_formatted_code);\n",
       "                        }\n",
       "                        break;\n",
       "                    }\n",
       "                }\n",
       "            }, 500);\n",
       "            "
      ],
      "text/plain": [
       "<IPython.core.display.Javascript object>"
      ]
     },
     "metadata": {},
     "output_type": "display_data"
    }
   ],
   "source": [
    "ram_pattern = r\"\\b\\d+\\s*(?:GB|gb)\\s+(\\w+)\\b\"\n",
    "df1[\"RAM_type\"] = df1[\"RAM\"].str.extract(ram_pattern)\n",
    "df1.RAM_type.unique()"
   ]
  },
  {
   "cell_type": "markdown",
   "id": "22e5000e",
   "metadata": {},
   "source": [
    "### b(ii)"
   ]
  },
  {
   "cell_type": "code",
   "execution_count": 20,
   "id": "985c252d",
   "metadata": {},
   "outputs": [
    {
     "data": {
      "text/plain": [
       "array([ True])"
      ]
     },
     "execution_count": 20,
     "metadata": {},
     "output_type": "execute_result"
    },
    {
     "data": {
      "application/javascript": [
       "\n",
       "            setTimeout(function() {\n",
       "                var nbb_cell_id = 20;\n",
       "                var nbb_unformatted_code = \"df1[\\\"is_SSD\\\"] = df1[\\\"SSD\\\"].str.contains(\\\"SSD\\\")\\ndf1.is_SSD.unique()\";\n",
       "                var nbb_formatted_code = \"df1[\\\"is_SSD\\\"] = df1[\\\"SSD\\\"].str.contains(\\\"SSD\\\")\\ndf1.is_SSD.unique()\";\n",
       "                var nbb_cells = Jupyter.notebook.get_cells();\n",
       "                for (var i = 0; i < nbb_cells.length; ++i) {\n",
       "                    if (nbb_cells[i].input_prompt_number == nbb_cell_id) {\n",
       "                        if (nbb_cells[i].get_text() == nbb_unformatted_code) {\n",
       "                             nbb_cells[i].set_text(nbb_formatted_code);\n",
       "                        }\n",
       "                        break;\n",
       "                    }\n",
       "                }\n",
       "            }, 500);\n",
       "            "
      ],
      "text/plain": [
       "<IPython.core.display.Javascript object>"
      ]
     },
     "metadata": {},
     "output_type": "display_data"
    }
   ],
   "source": [
    "df1[\"is_SSD\"] = df1[\"SSD\"].str.contains(\"SSD\")\n",
    "df1.is_SSD.unique()"
   ]
  },
  {
   "cell_type": "markdown",
   "id": "415a5a1c",
   "metadata": {},
   "source": [
    "## Part c"
   ]
  },
  {
   "cell_type": "code",
   "execution_count": 21,
   "id": "a40bbcce",
   "metadata": {},
   "outputs": [
    {
     "data": {
      "text/plain": [
       "array(['HP', 'Lenovo', 'ASUS', 'RedmiBook', 'acer', 'Infinix', 'APPLE',\n",
       "       'MSI', 'DELL', 'SAMSUNG', 'GIGABYTE', 'Avita', 'Nokia', 'Vaio',\n",
       "       'Mi', 'LG', 'realme', 'Ultimus'], dtype=object)"
      ]
     },
     "execution_count": 21,
     "metadata": {},
     "output_type": "execute_result"
    },
    {
     "data": {
      "application/javascript": [
       "\n",
       "            setTimeout(function() {\n",
       "                var nbb_cell_id = 21;\n",
       "                var nbb_unformatted_code = \"df1[\\\"Brand_name\\\"] = df1[\\\"title\\\"].str.split(\\\" \\\").apply(lambda x: x[0].strip())\\ndf1.Brand_name.unique()\";\n",
       "                var nbb_formatted_code = \"df1[\\\"Brand_name\\\"] = df1[\\\"title\\\"].str.split(\\\" \\\").apply(lambda x: x[0].strip())\\ndf1.Brand_name.unique()\";\n",
       "                var nbb_cells = Jupyter.notebook.get_cells();\n",
       "                for (var i = 0; i < nbb_cells.length; ++i) {\n",
       "                    if (nbb_cells[i].input_prompt_number == nbb_cell_id) {\n",
       "                        if (nbb_cells[i].get_text() == nbb_unformatted_code) {\n",
       "                             nbb_cells[i].set_text(nbb_formatted_code);\n",
       "                        }\n",
       "                        break;\n",
       "                    }\n",
       "                }\n",
       "            }, 500);\n",
       "            "
      ],
      "text/plain": [
       "<IPython.core.display.Javascript object>"
      ]
     },
     "metadata": {},
     "output_type": "display_data"
    }
   ],
   "source": [
    "df1[\"Brand_name\"] = df1[\"title\"].str.split(\" \").apply(lambda x: x[0].strip())\n",
    "df1.Brand_name.unique()"
   ]
  }
 ],
 "metadata": {
  "colab": {
   "provenance": []
  },
  "kernelspec": {
   "display_name": "Python 3 (ipykernel)",
   "language": "python",
   "name": "python3"
  },
  "language_info": {
   "codemirror_mode": {
    "name": "ipython",
    "version": 3
   },
   "file_extension": ".py",
   "mimetype": "text/x-python",
   "name": "python",
   "nbconvert_exporter": "python",
   "pygments_lexer": "ipython3",
   "version": "3.9.13"
  }
 },
 "nbformat": 4,
 "nbformat_minor": 5
}
