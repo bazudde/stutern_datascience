{
 "cells": [
  {
   "cell_type": "markdown",
   "id": "28c12f4a-512d-4a18-8640-45dd48ae8b3c",
   "metadata": {},
   "source": [
    "# Assignment 1 (Week 1)\n",
    "\n",
    "## Name: Theresa Louise Bazudde"
   ]
  },
  {
   "cell_type": "code",
   "execution_count": null,
   "id": "5aba3d86-630f-4a40-bbf6-6e3cde1e44b9",
   "metadata": {},
   "outputs": [],
   "source": [
    "# Black code formatter (Optional)\n",
    "! pip install nb_black\n",
    "%load_ext lab_black\n",
    "\n",
    "# auto reload imports\n",
    "%load_ext autoreload\n",
    "%autoreload 2"
   ]
  },
  {
   "cell_type": "markdown",
   "id": "2239d407",
   "metadata": {},
   "source": [
    "# Qs 1:"
   ]
  },
  {
   "cell_type": "code",
   "execution_count": 1,
   "id": "b3be6c03",
   "metadata": {},
   "outputs": [],
   "source": [
    "# creating class and method\n",
    "import random\n",
    "\n",
    "\n",
    "class Die:\n",
    "    def __init__(self, sides=6):\n",
    "        self.sides = sides\n",
    "\n",
    "    def roll_die(self):\n",
    "        print(random.randint(1, self.sides))"
   ]
  },
  {
   "cell_type": "code",
   "execution_count": 5,
   "id": "544e79ed",
   "metadata": {
    "scrolled": true
   },
   "outputs": [
    {
     "name": "stdout",
     "output_type": "stream",
     "text": [
      "4\n",
      "2\n",
      "3\n",
      "5\n"
     ]
    }
   ],
   "source": [
    "# creating the die and rolling it four times\n",
    "die = Die()\n",
    "for i in range(4):\n",
    "    die.roll_die()"
   ]
  },
  {
   "cell_type": "markdown",
   "id": "7e632872",
   "metadata": {},
   "source": [
    "# Qs 2:"
   ]
  },
  {
   "cell_type": "code",
   "execution_count": null,
   "id": "2e89f2f2-d0b0-4ca8-8971-58a5b5d0ce4b",
   "metadata": {},
   "outputs": [],
   "source": [
    "# function to check if number is divisible by 3,4, or 12\n",
    "def checker(N):\n",
    "    if N % 12 == 0:\n",
    "        print(\"Perfect\")\n",
    "    elif N % 4 == 0:\n",
    "        print(\"Okay\")\n",
    "    elif N % 3 == 0:\n",
    "        print(\"Yes\")\n",
    "    else:\n",
    "        print(\"Oops, doesn't fit criteria\")"
   ]
  },
  {
   "cell_type": "code",
   "execution_count": null,
   "id": "d54bf804-5776-45c1-ae47-14ce56c0bc61",
   "metadata": {},
   "outputs": [],
   "source": [
    "# Testing the checker\n",
    "checker(2)\n",
    "checker(9)\n",
    "checker(8)\n",
    "checker(12)"
   ]
  },
  {
   "cell_type": "markdown",
   "id": "91c78281-195b-4248-b2ca-86bb330a8b73",
   "metadata": {},
   "source": [
    "## Qs 3: "
   ]
  },
  {
   "cell_type": "code",
   "execution_count": 24,
   "id": "c111ac13-e041-4424-a593-67b977983a5f",
   "metadata": {},
   "outputs": [
    {
     "name": "stdout",
     "output_type": "stream",
     "text": [
      "Mean: 35.25\n",
      "Median: 38\n"
     ]
    }
   ],
   "source": [
    "class MeanOrMedian:\n",
    "    def __init__(self, values):\n",
    "        self.values = values\n",
    "#method for Mean\n",
    "    def calculate_mean(self):\n",
    "        return sum(self.values)/len(self.values)\n",
    "#method for median\n",
    "    def calculate_median(self):\n",
    "        self.values.sort()\n",
    "        if len(self.values) % 2 == 0:\n",
    "            median1 = self.values[len(self.values) // 2 -1]\n",
    "            median2 = self.values[len(self.values) // 2]\n",
    "            return (median1 + median2) // 2\n",
    "        else:\n",
    "            return self.values[len(self.values) // 2]\n",
    "#Testing\n",
    "values = [20, 45, 36, 40]\n",
    "mean = MeanOrMedian(values).calculate_mean()\n",
    "print(\"Mean:\", mean)\n",
    "median = MeanOrMedian(values).calculate_median()\n",
    "print(\"Median:\", median)"
   ]
  },
  {
   "cell_type": "markdown",
   "id": "dedaee12",
   "metadata": {},
   "source": [
    "## Qs 4:"
   ]
  },
  {
   "cell_type": "code",
   "execution_count": 5,
   "id": "17630778-8b55-4fd8-a2c1-198072e1e595",
   "metadata": {
    "collapsed": true
   },
   "outputs": [
    {
     "name": "stdout",
     "output_type": "stream",
     "text": [
      "Multiplication: 10\n",
      "Division: 2.5\n",
      "Multiplication: 35\n",
      "Division: 1.4\n"
     ]
    }
   ],
   "source": [
    "def solver(a, b):\n",
    "    return a * b, a / b\n",
    "\n",
    "\n",
    "# Testing the solver function \n",
    "result = solver(5, 2)\n",
    "print(\"Multiplication:\", result[0])\n",
    "print(\"Division:\", result[1])\n",
    "#Test 2\n",
    "\n",
    "res = solver(7, 5)\n",
    "print(\"Multiplication:\", res[0])\n",
    "print(\"Division:\", res[1])"
   ]
  },
  {
   "cell_type": "markdown",
   "id": "11fd8120-de4e-41c6-a9a6-8301347ce936",
   "metadata": {},
   "source": [
    "## Qs 5:"
   ]
  },
  {
   "cell_type": "code",
   "execution_count": 25,
   "id": "b2ba6099-5668-4647-bc93-ad620bfb6be0",
   "metadata": {},
   "outputs": [],
   "source": [
    "#creating the dictionary\n",
    "my_dict = {\n",
    "   \"id\": \"001\",\n",
    "   \"name\": \"dog\",\n",
    "   \"image\":\n",
    "      {\n",
    "         \"url\": \"images/001.jpg\",\n",
    "\n",
    "            \"thumbnail\":\n",
    "               {\n",
    "                  \"url\": \"images/thumbnails/001.jpg\",\n",
    "                  \"height,width\": \"3x6\"\n",
    "               },\n",
    "          \"size\": \"30 kB\"\n",
    "      }\n",
    "}"
   ]
  },
  {
   "cell_type": "code",
   "execution_count": 34,
   "id": "ee8d8a36-ead3-4ca0-b98f-96864c7c7ebf",
   "metadata": {},
   "outputs": [
    {
     "name": "stdout",
     "output_type": "stream",
     "text": [
      "Name is: dog\n",
      "Height and Width is: 3x6\n",
      "Image size is: 30 kB\n"
     ]
    }
   ],
   "source": [
    "#extracting information\n",
    "name = print(\"Name is:\", my_dict[\"name\"])\n",
    "height_width = print(\"Height and Width is:\",my_dict[\"image\"][\"thumbnail\"][\"height,width\"])\n",
    "size = print(\"Image size is:\", my_dict[\"image\"][\"size\"])"
   ]
  }
 ],
 "metadata": {
  "kernelspec": {
   "display_name": "Python 3 (ipykernel)",
   "language": "python",
   "name": "python3"
  },
  "language_info": {
   "codemirror_mode": {
    "name": "ipython",
    "version": 3
   },
   "file_extension": ".py",
   "mimetype": "text/x-python",
   "name": "python",
   "nbconvert_exporter": "python",
   "pygments_lexer": "ipython3",
   "version": "3.9.13"
  }
 },
 "nbformat": 4,
 "nbformat_minor": 5
}
