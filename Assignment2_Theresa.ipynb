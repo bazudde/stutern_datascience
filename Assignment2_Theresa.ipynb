{
 "cells": [
  {
   "cell_type": "markdown",
   "id": "0415d8e6",
   "metadata": {},
   "source": [
    "# Assignment 2 (Week 2)\n",
    "\n",
    "\n",
    "## Name: Theresa Louise Bazudde"
   ]
  },
  {
   "cell_type": "code",
   "execution_count": 1,
   "id": "59b3b556",
   "metadata": {},
   "outputs": [],
   "source": [
    "%load_ext sql\n",
    "%sql sqlite:///week_2.db"
   ]
  },
  {
   "cell_type": "markdown",
   "id": "6ff7e867",
   "metadata": {},
   "source": [
    "# Qs 1:"
   ]
  },
  {
   "cell_type": "code",
   "execution_count": 2,
   "id": "679ac3b4",
   "metadata": {
    "collapsed": true
   },
   "outputs": [
    {
     "name": "stdout",
     "output_type": "stream",
     "text": [
      " * sqlite:///week_2.db\n",
      "Done.\n"
     ]
    },
    {
     "data": {
      "text/html": [
       "<table>\n",
       "    <tr>\n",
       "        <th>name</th>\n",
       "    </tr>\n",
       "    <tr>\n",
       "        <td>Afam</td>\n",
       "    </tr>\n",
       "    <tr>\n",
       "        <td>Deborah</td>\n",
       "    </tr>\n",
       "</table>"
      ],
      "text/plain": [
       "[('Afam',), ('Deborah',)]"
      ]
     },
     "execution_count": 2,
     "metadata": {},
     "output_type": "execute_result"
    }
   ],
   "source": [
    "%%sql\n",
    "SELECT c.name\n",
    "FROM customers c\n",
    "JOIN orders o\n",
    "ON c.id = o.id\n",
    "WHERE typeof(order_id) = 'null'"
   ]
  },
  {
   "cell_type": "markdown",
   "id": "eeafedba",
   "metadata": {},
   "source": [
    "## Part b"
   ]
  },
  {
   "cell_type": "code",
   "execution_count": 3,
   "id": "c1dacb53",
   "metadata": {
    "collapsed": true
   },
   "outputs": [
    {
     "name": "stdout",
     "output_type": "stream",
     "text": [
      " * sqlite:///week_2.db\n",
      "Done.\n"
     ]
    },
    {
     "data": {
      "text/html": [
       "<table>\n",
       "    <tr>\n",
       "        <th>id</th>\n",
       "        <th>store a</th>\n",
       "        <th>store b</th>\n",
       "        <th>store c</th>\n",
       "    </tr>\n",
       "    <tr>\n",
       "        <td>0</td>\n",
       "        <td>10</td>\n",
       "        <td>11</td>\n",
       "        <td>12</td>\n",
       "    </tr>\n",
       "    <tr>\n",
       "        <td>1</td>\n",
       "        <td>33</td>\n",
       "        <td>35</td>\n",
       "        <td>34</td>\n",
       "    </tr>\n",
       "</table>"
      ],
      "text/plain": [
       "[(0, 10, 11, 12), (1, 33, 35, 34)]"
      ]
     },
     "execution_count": 3,
     "metadata": {},
     "output_type": "execute_result"
    }
   ],
   "source": [
    "%%sql\n",
    "SELECT id,\n",
    "MAX(CASE WHEN store = 'store a' THEN price ELSE 0 END) AS 'store a',\n",
    "MAX(CASE WHEN store = 'store b' THEN price ELSE 0 END) AS 'store b',\n",
    "MAX(CASE WHEN store = 'store c' THEN price ELSE 0 END) AS 'store c'\n",
    "FROM products \n",
    "GROUP BY id"
   ]
  },
  {
   "cell_type": "markdown",
   "id": "53c970dd",
   "metadata": {},
   "source": [
    "# Qs 2"
   ]
  },
  {
   "cell_type": "markdown",
   "id": "a89ded79",
   "metadata": {},
   "source": [
    "## Part a"
   ]
  },
  {
   "cell_type": "code",
   "execution_count": 4,
   "id": "85a940d5",
   "metadata": {
    "collapsed": true
   },
   "outputs": [
    {
     "name": "stdout",
     "output_type": "stream",
     "text": [
      " * sqlite:///week_2.db\n",
      "Done.\n"
     ]
    },
    {
     "data": {
      "text/html": [
       "<table>\n",
       "    <tr>\n",
       "        <th>name</th>\n",
       "        <th>salary</th>\n",
       "        <th>dept_name</th>\n",
       "    </tr>\n",
       "    <tr>\n",
       "        <td>Felix</td>\n",
       "        <td>33000</td>\n",
       "        <td>IT</td>\n",
       "    </tr>\n",
       "    <tr>\n",
       "        <td>Okafor</td>\n",
       "        <td>25000</td>\n",
       "        <td>IT</td>\n",
       "    </tr>\n",
       "    <tr>\n",
       "        <td>Gafar</td>\n",
       "        <td>41000</td>\n",
       "        <td>IT</td>\n",
       "    </tr>\n",
       "    <tr>\n",
       "        <td>Amanda</td>\n",
       "        <td>53000</td>\n",
       "        <td>IT</td>\n",
       "    </tr>\n",
       "    <tr>\n",
       "        <td>Steve</td>\n",
       "        <td>32000</td>\n",
       "        <td>Sales</td>\n",
       "    </tr>\n",
       "    <tr>\n",
       "        <td>Bola</td>\n",
       "        <td>31000</td>\n",
       "        <td>Sales</td>\n",
       "    </tr>\n",
       "    <tr>\n",
       "        <td>Babalola</td>\n",
       "        <td>30200</td>\n",
       "        <td>Sales</td>\n",
       "    </tr>\n",
       "    <tr>\n",
       "        <td>Adigun</td>\n",
       "        <td>30000</td>\n",
       "        <td>Sales</td>\n",
       "    </tr>\n",
       "</table>"
      ],
      "text/plain": [
       "[('Felix', 33000, 'IT'),\n",
       " ('Okafor', 25000, 'IT'),\n",
       " ('Gafar', 41000, 'IT'),\n",
       " ('Amanda', 53000, 'IT'),\n",
       " ('Steve', 32000, 'Sales'),\n",
       " ('Bola', 31000, 'Sales'),\n",
       " ('Babalola', 30200, 'Sales'),\n",
       " ('Adigun', 30000, 'Sales')]"
      ]
     },
     "execution_count": 4,
     "metadata": {},
     "output_type": "execute_result"
    }
   ],
   "source": [
    "%%sql\n",
    "SELECT e.name, e.salary, d.dept_name\n",
    "FROM employee e\n",
    "JOIN department d\n",
    "ON d.id = e.dept_id\n",
    "ORDER BY dept_name"
   ]
  },
  {
   "cell_type": "markdown",
   "id": "659700e2",
   "metadata": {},
   "source": [
    "## Part b"
   ]
  },
  {
   "cell_type": "code",
   "execution_count": 5,
   "id": "68dde29a",
   "metadata": {
    "collapsed": true
   },
   "outputs": [
    {
     "name": "stdout",
     "output_type": "stream",
     "text": [
      " * sqlite:///week_2.db\n",
      "Done.\n"
     ]
    },
    {
     "data": {
      "text/html": [
       "<table>\n",
       "    <tr>\n",
       "        <th>name</th>\n",
       "    </tr>\n",
       "    <tr>\n",
       "        <td>Amanda</td>\n",
       "    </tr>\n",
       "    <tr>\n",
       "        <td>Steve</td>\n",
       "    </tr>\n",
       "</table>"
      ],
      "text/plain": [
       "[('Amanda',), ('Steve',)]"
      ]
     },
     "execution_count": 5,
     "metadata": {},
     "output_type": "execute_result"
    }
   ],
   "source": [
    "%%sql\n",
    "SELECT e.name\n",
    "FROM employee e\n",
    "JOIN department d\n",
    "ON d.id = e.dept_id\n",
    "GROUP BY dept_name\n",
    "HAVING MAX(salary)"
   ]
  },
  {
   "cell_type": "markdown",
   "id": "bbbddf78",
   "metadata": {},
   "source": [
    "## Part C"
   ]
  },
  {
   "cell_type": "code",
   "execution_count": 6,
   "id": "abd20c39",
   "metadata": {
    "collapsed": true
   },
   "outputs": [
    {
     "name": "stdout",
     "output_type": "stream",
     "text": [
      " * sqlite:///week_2.db\n",
      "Done.\n"
     ]
    },
    {
     "data": {
      "text/html": [
       "<table>\n",
       "    <tr>\n",
       "        <th>name</th>\n",
       "        <th>salary</th>\n",
       "        <th>dept_name</th>\n",
       "    </tr>\n",
       "    <tr>\n",
       "        <td>Amanda</td>\n",
       "        <td>53000</td>\n",
       "        <td>IT</td>\n",
       "    </tr>\n",
       "    <tr>\n",
       "        <td>Gafar</td>\n",
       "        <td>41000</td>\n",
       "        <td>IT</td>\n",
       "    </tr>\n",
       "    <tr>\n",
       "        <td>Felix</td>\n",
       "        <td>33000</td>\n",
       "        <td>IT</td>\n",
       "    </tr>\n",
       "    <tr>\n",
       "        <td>Steve</td>\n",
       "        <td>32000</td>\n",
       "        <td>Sales</td>\n",
       "    </tr>\n",
       "    <tr>\n",
       "        <td>Bola</td>\n",
       "        <td>31000</td>\n",
       "        <td>Sales</td>\n",
       "    </tr>\n",
       "    <tr>\n",
       "        <td>Babalola</td>\n",
       "        <td>30200</td>\n",
       "        <td>Sales</td>\n",
       "    </tr>\n",
       "</table>"
      ],
      "text/plain": [
       "[('Amanda', 53000, 'IT'),\n",
       " ('Gafar', 41000, 'IT'),\n",
       " ('Felix', 33000, 'IT'),\n",
       " ('Steve', 32000, 'Sales'),\n",
       " ('Bola', 31000, 'Sales'),\n",
       " ('Babalola', 30200, 'Sales')]"
      ]
     },
     "execution_count": 6,
     "metadata": {},
     "output_type": "execute_result"
    }
   ],
   "source": [
    "%%sql\n",
    "SELECT e.name, e.salary, d.dept_name\n",
    "FROM employee e\n",
    "JOIN department d\n",
    "ON d.id = e.dept_id\n",
    "EXCEPT \n",
    "SELECT e.name, e.salary, d.dept_name\n",
    "FROM employee e\n",
    "JOIN department d\n",
    "ON d.id = e.dept_id\n",
    "GROUP BY dept_name\n",
    "HAVING MIN(salary)\n",
    "ORDER BY dept_name, salary DESC"
   ]
  },
  {
   "cell_type": "markdown",
   "id": "7cdb247d",
   "metadata": {},
   "source": [
    "# Qs 3"
   ]
  },
  {
   "cell_type": "code",
   "execution_count": 7,
   "id": "c32a4a19",
   "metadata": {
    "collapsed": true
   },
   "outputs": [
    {
     "name": "stdout",
     "output_type": "stream",
     "text": [
      " * sqlite:///week_2.db\n",
      "Done.\n"
     ]
    },
    {
     "data": {
      "text/html": [
       "<table>\n",
       "    <tr>\n",
       "        <th>matric_no</th>\n",
       "        <th>name</th>\n",
       "        <th>gender</th>\n",
       "        <th>maths</th>\n",
       "        <th>english</th>\n",
       "        <th>physics</th>\n",
       "    </tr>\n",
       "    <tr>\n",
       "        <td>ux-012-013</td>\n",
       "        <td>Emeka</td>\n",
       "        <td>M</td>\n",
       "        <td>95</td>\n",
       "        <td>84</td>\n",
       "        <td>94</td>\n",
       "    </tr>\n",
       "    <tr>\n",
       "        <td>ux-012-014</td>\n",
       "        <td>Agnes</td>\n",
       "        <td>F</td>\n",
       "        <td>80</td>\n",
       "        <td>69</td>\n",
       "        <td>88</td>\n",
       "    </tr>\n",
       "    <tr>\n",
       "        <td>ux-012-015</td>\n",
       "        <td>Alimat</td>\n",
       "        <td>F</td>\n",
       "        <td>69</td>\n",
       "        <td>69</td>\n",
       "        <td>77</td>\n",
       "    </tr>\n",
       "    <tr>\n",
       "        <td>ux-012-017</td>\n",
       "        <td>Fred</td>\n",
       "        <td>M</td>\n",
       "        <td>28</td>\n",
       "        <td>57</td>\n",
       "        <td>39</td>\n",
       "    </tr>\n",
       "    <tr>\n",
       "        <td>ux-012-018</td>\n",
       "        <td>Ogechi</td>\n",
       "        <td>F</td>\n",
       "        <td>80</td>\n",
       "        <td>69</td>\n",
       "        <td>78</td>\n",
       "    </tr>\n",
       "    <tr>\n",
       "        <td>ux-012-019</td>\n",
       "        <td>Steve</td>\n",
       "        <td>M</td>\n",
       "        <td>61</td>\n",
       "        <td>69</td>\n",
       "        <td>72</td>\n",
       "    </tr>\n",
       "    <tr>\n",
       "        <td>ux-012-016</td>\n",
       "        <td>Esther</td>\n",
       "        <td>F</td>\n",
       "        <td>93</td>\n",
       "        <td>77</td>\n",
       "        <td>91</td>\n",
       "    </tr>\n",
       "    <tr>\n",
       "        <td>ux-012-020</td>\n",
       "        <td>Ahmed</td>\n",
       "        <td>M</td>\n",
       "        <td>87</td>\n",
       "        <td>94</td>\n",
       "        <td>85</td>\n",
       "    </tr>\n",
       "    <tr>\n",
       "        <td>ux-012-021</td>\n",
       "        <td>Samantha</td>\n",
       "        <td>F</td>\n",
       "        <td>52</td>\n",
       "        <td>69</td>\n",
       "        <td>48</td>\n",
       "    </tr>\n",
       "    <tr>\n",
       "        <td>ux-012-022</td>\n",
       "        <td>Philip</td>\n",
       "        <td>M</td>\n",
       "        <td>51</td>\n",
       "        <td>39</td>\n",
       "        <td>45</td>\n",
       "    </tr>\n",
       "    <tr>\n",
       "        <td>ux-012-023</td>\n",
       "        <td>Dave</td>\n",
       "        <td>M</td>\n",
       "        <td>77</td>\n",
       "        <td>69</td>\n",
       "        <td>70</td>\n",
       "    </tr>\n",
       "    <tr>\n",
       "        <td>ux-012-024</td>\n",
       "        <td>Seyi</td>\n",
       "        <td>M</td>\n",
       "        <td>54</td>\n",
       "        <td>83</td>\n",
       "        <td>63</td>\n",
       "    </tr>\n",
       "</table>"
      ],
      "text/plain": [
       "[('ux-012-013', 'Emeka', 'M', 95, 84, 94),\n",
       " ('ux-012-014', 'Agnes', 'F', 80, 69, 88),\n",
       " ('ux-012-015', 'Alimat', 'F', 69, 69, 77),\n",
       " ('ux-012-017', 'Fred', 'M', 28, 57, 39),\n",
       " ('ux-012-018', 'Ogechi', 'F', 80, 69, 78),\n",
       " ('ux-012-019', 'Steve', 'M', 61, 69, 72),\n",
       " ('ux-012-016', 'Esther', 'F', 93, 77, 91),\n",
       " ('ux-012-020', 'Ahmed', 'M', 87, 94, 85),\n",
       " ('ux-012-021', 'Samantha', 'F', 52, 69, 48),\n",
       " ('ux-012-022', 'Philip', 'M', 51, 39, 45),\n",
       " ('ux-012-023', 'Dave', 'M', 77, 69, 70),\n",
       " ('ux-012-024', 'Seyi', 'M', 54, 83, 63)]"
      ]
     },
     "execution_count": 7,
     "metadata": {},
     "output_type": "execute_result"
    }
   ],
   "source": [
    "%%sql\n",
    "SELECT * FROM students"
   ]
  },
  {
   "cell_type": "markdown",
   "id": "a6da6861",
   "metadata": {},
   "source": [
    "## Part a "
   ]
  },
  {
   "cell_type": "code",
   "execution_count": 8,
   "id": "54754d15",
   "metadata": {
    "collapsed": true
   },
   "outputs": [
    {
     "name": "stdout",
     "output_type": "stream",
     "text": [
      " * sqlite:///week_2.db\n",
      "Done.\n"
     ]
    },
    {
     "data": {
      "text/html": [
       "<table>\n",
       "    <tr>\n",
       "        <th>matric_no</th>\n",
       "        <th>name</th>\n",
       "        <th>gender</th>\n",
       "        <th>maths</th>\n",
       "        <th>english</th>\n",
       "        <th>physics</th>\n",
       "        <th>percentage_score</th>\n",
       "    </tr>\n",
       "    <tr>\n",
       "        <td>ux-012-017</td>\n",
       "        <td>Fred</td>\n",
       "        <td>M</td>\n",
       "        <td>28</td>\n",
       "        <td>57</td>\n",
       "        <td>39</td>\n",
       "        <td>41.0</td>\n",
       "    </tr>\n",
       "    <tr>\n",
       "        <td>ux-012-022</td>\n",
       "        <td>Philip</td>\n",
       "        <td>M</td>\n",
       "        <td>51</td>\n",
       "        <td>39</td>\n",
       "        <td>45</td>\n",
       "        <td>45.0</td>\n",
       "    </tr>\n",
       "    <tr>\n",
       "        <td>ux-012-021</td>\n",
       "        <td>Samantha</td>\n",
       "        <td>F</td>\n",
       "        <td>52</td>\n",
       "        <td>69</td>\n",
       "        <td>48</td>\n",
       "        <td>56.0</td>\n",
       "    </tr>\n",
       "    <tr>\n",
       "        <td>ux-012-024</td>\n",
       "        <td>Seyi</td>\n",
       "        <td>M</td>\n",
       "        <td>54</td>\n",
       "        <td>83</td>\n",
       "        <td>63</td>\n",
       "        <td>66.0</td>\n",
       "    </tr>\n",
       "    <tr>\n",
       "        <td>ux-012-019</td>\n",
       "        <td>Steve</td>\n",
       "        <td>M</td>\n",
       "        <td>61</td>\n",
       "        <td>69</td>\n",
       "        <td>72</td>\n",
       "        <td>67.0</td>\n",
       "    </tr>\n",
       "    <tr>\n",
       "        <td>ux-012-015</td>\n",
       "        <td>Alimat</td>\n",
       "        <td>F</td>\n",
       "        <td>69</td>\n",
       "        <td>69</td>\n",
       "        <td>77</td>\n",
       "        <td>71.0</td>\n",
       "    </tr>\n",
       "    <tr>\n",
       "        <td>ux-012-023</td>\n",
       "        <td>Dave</td>\n",
       "        <td>M</td>\n",
       "        <td>77</td>\n",
       "        <td>69</td>\n",
       "        <td>70</td>\n",
       "        <td>72.0</td>\n",
       "    </tr>\n",
       "    <tr>\n",
       "        <td>ux-012-018</td>\n",
       "        <td>Ogechi</td>\n",
       "        <td>F</td>\n",
       "        <td>80</td>\n",
       "        <td>69</td>\n",
       "        <td>78</td>\n",
       "        <td>75.0</td>\n",
       "    </tr>\n",
       "    <tr>\n",
       "        <td>ux-012-014</td>\n",
       "        <td>Agnes</td>\n",
       "        <td>F</td>\n",
       "        <td>80</td>\n",
       "        <td>69</td>\n",
       "        <td>88</td>\n",
       "        <td>79.0</td>\n",
       "    </tr>\n",
       "    <tr>\n",
       "        <td>ux-012-016</td>\n",
       "        <td>Esther</td>\n",
       "        <td>F</td>\n",
       "        <td>93</td>\n",
       "        <td>77</td>\n",
       "        <td>91</td>\n",
       "        <td>87.0</td>\n",
       "    </tr>\n",
       "    <tr>\n",
       "        <td>ux-012-020</td>\n",
       "        <td>Ahmed</td>\n",
       "        <td>M</td>\n",
       "        <td>87</td>\n",
       "        <td>94</td>\n",
       "        <td>85</td>\n",
       "        <td>88.0</td>\n",
       "    </tr>\n",
       "    <tr>\n",
       "        <td>ux-012-013</td>\n",
       "        <td>Emeka</td>\n",
       "        <td>M</td>\n",
       "        <td>95</td>\n",
       "        <td>84</td>\n",
       "        <td>94</td>\n",
       "        <td>91.0</td>\n",
       "    </tr>\n",
       "</table>"
      ],
      "text/plain": [
       "[('ux-012-017', 'Fred', 'M', 28, 57, 39, 41.0),\n",
       " ('ux-012-022', 'Philip', 'M', 51, 39, 45, 45.0),\n",
       " ('ux-012-021', 'Samantha', 'F', 52, 69, 48, 56.0),\n",
       " ('ux-012-024', 'Seyi', 'M', 54, 83, 63, 66.0),\n",
       " ('ux-012-019', 'Steve', 'M', 61, 69, 72, 67.0),\n",
       " ('ux-012-015', 'Alimat', 'F', 69, 69, 77, 71.0),\n",
       " ('ux-012-023', 'Dave', 'M', 77, 69, 70, 72.0),\n",
       " ('ux-012-018', 'Ogechi', 'F', 80, 69, 78, 75.0),\n",
       " ('ux-012-014', 'Agnes', 'F', 80, 69, 88, 79.0),\n",
       " ('ux-012-016', 'Esther', 'F', 93, 77, 91, 87.0),\n",
       " ('ux-012-020', 'Ahmed', 'M', 87, 94, 85, 88.0),\n",
       " ('ux-012-013', 'Emeka', 'M', 95, 84, 94, 91.0)]"
      ]
     },
     "execution_count": 8,
     "metadata": {},
     "output_type": "execute_result"
    }
   ],
   "source": [
    "%%sql\n",
    "SELECT *, ROUND((maths+english+physics)/3, 2) percentage_score\n",
    "FROM students\n",
    "ORDER BY percentage_score"
   ]
  },
  {
   "cell_type": "markdown",
   "id": "9fe1dffb",
   "metadata": {},
   "source": [
    "## Part b"
   ]
  },
  {
   "cell_type": "code",
   "execution_count": 9,
   "id": "baa99e25",
   "metadata": {
    "collapsed": true
   },
   "outputs": [
    {
     "name": "stdout",
     "output_type": "stream",
     "text": [
      " * sqlite:///week_2.db\n",
      "Done.\n"
     ]
    },
    {
     "data": {
      "text/html": [
       "<table>\n",
       "    <tr>\n",
       "        <th>matric_no</th>\n",
       "        <th>name</th>\n",
       "        <th>gender</th>\n",
       "        <th>maths</th>\n",
       "        <th>english</th>\n",
       "        <th>physics</th>\n",
       "        <th>percentage_score</th>\n",
       "    </tr>\n",
       "    <tr>\n",
       "        <td>ux-012-013</td>\n",
       "        <td>Emeka</td>\n",
       "        <td>M</td>\n",
       "        <td>95</td>\n",
       "        <td>84</td>\n",
       "        <td>94</td>\n",
       "        <td>91.0</td>\n",
       "    </tr>\n",
       "    <tr>\n",
       "        <td>ux-012-014</td>\n",
       "        <td>Agnes</td>\n",
       "        <td>F</td>\n",
       "        <td>80</td>\n",
       "        <td>69</td>\n",
       "        <td>88</td>\n",
       "        <td>79.0</td>\n",
       "    </tr>\n",
       "    <tr>\n",
       "        <td>ux-012-015</td>\n",
       "        <td>Alimat</td>\n",
       "        <td>F</td>\n",
       "        <td>69</td>\n",
       "        <td>69</td>\n",
       "        <td>77</td>\n",
       "        <td>71.0</td>\n",
       "    </tr>\n",
       "    <tr>\n",
       "        <td>ux-012-018</td>\n",
       "        <td>Ogechi</td>\n",
       "        <td>F</td>\n",
       "        <td>80</td>\n",
       "        <td>69</td>\n",
       "        <td>78</td>\n",
       "        <td>75.0</td>\n",
       "    </tr>\n",
       "    <tr>\n",
       "        <td>ux-012-016</td>\n",
       "        <td>Esther</td>\n",
       "        <td>F</td>\n",
       "        <td>93</td>\n",
       "        <td>77</td>\n",
       "        <td>91</td>\n",
       "        <td>87.0</td>\n",
       "    </tr>\n",
       "    <tr>\n",
       "        <td>ux-012-020</td>\n",
       "        <td>Ahmed</td>\n",
       "        <td>M</td>\n",
       "        <td>87</td>\n",
       "        <td>94</td>\n",
       "        <td>85</td>\n",
       "        <td>88.0</td>\n",
       "    </tr>\n",
       "    <tr>\n",
       "        <td>ux-012-023</td>\n",
       "        <td>Dave</td>\n",
       "        <td>M</td>\n",
       "        <td>77</td>\n",
       "        <td>69</td>\n",
       "        <td>70</td>\n",
       "        <td>72.0</td>\n",
       "    </tr>\n",
       "</table>"
      ],
      "text/plain": [
       "[('ux-012-013', 'Emeka', 'M', 95, 84, 94, 91.0),\n",
       " ('ux-012-014', 'Agnes', 'F', 80, 69, 88, 79.0),\n",
       " ('ux-012-015', 'Alimat', 'F', 69, 69, 77, 71.0),\n",
       " ('ux-012-018', 'Ogechi', 'F', 80, 69, 78, 75.0),\n",
       " ('ux-012-016', 'Esther', 'F', 93, 77, 91, 87.0),\n",
       " ('ux-012-020', 'Ahmed', 'M', 87, 94, 85, 88.0),\n",
       " ('ux-012-023', 'Dave', 'M', 77, 69, 70, 72.0)]"
      ]
     },
     "execution_count": 9,
     "metadata": {},
     "output_type": "execute_result"
    }
   ],
   "source": [
    "%%sql\n",
    "SELECT *, ROUND((maths+english+physics)/3, 2) percentage_score\n",
    "FROM students\n",
    "WHERE percentage_score >\n",
    "(SELECT AVG(ROUND((maths+english+physics)/3, 2))\n",
    "FROM students)"
   ]
  }
 ],
 "metadata": {
  "kernelspec": {
   "display_name": "Python 3 (ipykernel)",
   "language": "python",
   "name": "python3"
  },
  "language_info": {
   "codemirror_mode": {
    "name": "ipython",
    "version": 3
   },
   "file_extension": ".py",
   "mimetype": "text/x-python",
   "name": "python",
   "nbconvert_exporter": "python",
   "pygments_lexer": "ipython3",
   "version": "3.9.13"
  }
 },
 "nbformat": 4,
 "nbformat_minor": 5
}
