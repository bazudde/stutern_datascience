{
 "cells": [
  {
   "cell_type": "markdown",
   "id": "27c9aa61-8e50-4ce9-95b1-ee11d85dd067",
   "metadata": {
    "id": "27c9aa61-8e50-4ce9-95b1-ee11d85dd067"
   },
   "source": [
    "# Assignment 5 (Week 5)\n",
    "\n",
    "## Name: Theresa Louise Bazudde"
   ]
  },
  {
   "cell_type": "code",
   "execution_count": 1,
   "id": "5f4da313-7d5a-4b4d-a9fe-5b814bb3ab3c",
   "metadata": {
    "id": "5f4da313-7d5a-4b4d-a9fe-5b814bb3ab3c",
    "scrolled": true
   },
   "outputs": [],
   "source": [
    "# Standard imports\n",
    "import numpy as np\n",
    "import pandas as pd\n",
    "import matplotlib.pyplot as plt\n",
    "import seaborn as sns\n",
    "\n",
    "# Built-in library\n",
    "import itertools\n",
    "import typing as tp\n",
    "\n",
    "# pandas settings\n",
    "pd.options.display.max_rows = 1_000\n",
    "pd.options.display.max_columns = 1_000\n",
    "pd.options.display.max_colwidth = 1_000\n"
   ]
  },
  {
   "cell_type": "code",
   "execution_count": 2,
   "id": "0da54157-0075-452f-9c79-832bba4969f3",
   "metadata": {
    "id": "0da54157-0075-452f-9c79-832bba4969f3"
   },
   "outputs": [],
   "source": [
    "df = pd.read_csv('marketing_campaign.csv', sep=\"\\t\")"
   ]
  },
  {
   "cell_type": "markdown",
   "id": "f3da9a91-96bf-4fb5-a0ee-2c13640367a5",
   "metadata": {
    "id": "f3da9a91-96bf-4fb5-a0ee-2c13640367a5"
   },
   "source": [
    "## Qs 1"
   ]
  },
  {
   "cell_type": "markdown",
   "id": "f734ab84",
   "metadata": {},
   "source": [
    "### Part a"
   ]
  },
  {
   "cell_type": "code",
   "execution_count": 3,
   "id": "85748e20-5fdf-4a91-94a7-fe85678d411b",
   "metadata": {
    "id": "85748e20-5fdf-4a91-94a7-fe85678d411b"
   },
   "outputs": [],
   "source": [
    "df['Avg_amount'] = df[['MntWines', 'MntFruits','MntMeatProducts','MntFishProducts','MntSweetProducts','MntGoldProds']].agg('mean', axis=1)\n",
    "df['Total_amount'] = df[['MntWines', 'MntFruits','MntMeatProducts','MntFishProducts','MntSweetProducts','MntGoldProds']].agg('sum', axis=1)"
   ]
  },
  {
   "cell_type": "markdown",
   "id": "4c498a57",
   "metadata": {},
   "source": [
    "### Part b"
   ]
  },
  {
   "cell_type": "code",
   "execution_count": 4,
   "id": "80b31fb5-21dc-4735-ac26-214f1a0f2f37",
   "metadata": {
    "id": "80b31fb5-21dc-4735-ac26-214f1a0f2f37"
   },
   "outputs": [],
   "source": [
    "df['Avg_amount(weights)'] = pd.qcut(df['Avg_amount'], 10, labels=False)"
   ]
  },
  {
   "cell_type": "code",
   "execution_count": 5,
   "id": "67c724d3",
   "metadata": {},
   "outputs": [
    {
     "data": {
      "text/html": [
       "<div>\n",
       "<style scoped>\n",
       "    .dataframe tbody tr th:only-of-type {\n",
       "        vertical-align: middle;\n",
       "    }\n",
       "\n",
       "    .dataframe tbody tr th {\n",
       "        vertical-align: top;\n",
       "    }\n",
       "\n",
       "    .dataframe thead th {\n",
       "        text-align: right;\n",
       "    }\n",
       "</style>\n",
       "<table border=\"1\" class=\"dataframe\">\n",
       "  <thead>\n",
       "    <tr style=\"text-align: right;\">\n",
       "      <th></th>\n",
       "      <th>Total_amount</th>\n",
       "      <th>Avg_amount</th>\n",
       "      <th>Avg_amount(weights)</th>\n",
       "    </tr>\n",
       "  </thead>\n",
       "  <tbody>\n",
       "    <tr>\n",
       "      <th>2053</th>\n",
       "      <td>71</td>\n",
       "      <td>11.833333</td>\n",
       "      <td>2</td>\n",
       "    </tr>\n",
       "    <tr>\n",
       "      <th>2019</th>\n",
       "      <td>22</td>\n",
       "      <td>3.666667</td>\n",
       "      <td>0</td>\n",
       "    </tr>\n",
       "    <tr>\n",
       "      <th>1891</th>\n",
       "      <td>2069</td>\n",
       "      <td>344.833333</td>\n",
       "      <td>9</td>\n",
       "    </tr>\n",
       "    <tr>\n",
       "      <th>335</th>\n",
       "      <td>946</td>\n",
       "      <td>157.666667</td>\n",
       "      <td>7</td>\n",
       "    </tr>\n",
       "    <tr>\n",
       "      <th>1600</th>\n",
       "      <td>562</td>\n",
       "      <td>93.666667</td>\n",
       "      <td>5</td>\n",
       "    </tr>\n",
       "  </tbody>\n",
       "</table>\n",
       "</div>"
      ],
      "text/plain": [
       "      Total_amount  Avg_amount  Avg_amount(weights)\n",
       "2053            71   11.833333                    2\n",
       "2019            22    3.666667                    0\n",
       "1891          2069  344.833333                    9\n",
       "335            946  157.666667                    7\n",
       "1600           562   93.666667                    5"
      ]
     },
     "execution_count": 5,
     "metadata": {},
     "output_type": "execute_result"
    }
   ],
   "source": [
    "#Answer\n",
    "df[[\"Total_amount\", \"Avg_amount\", \"Avg_amount(weights)\"]].sample(n=5, random_state=2)"
   ]
  },
  {
   "cell_type": "markdown",
   "id": "7a694813-9c95-479a-a12e-3577c1b9d497",
   "metadata": {
    "id": "7a694813-9c95-479a-a12e-3577c1b9d497"
   },
   "source": [
    "## Qs 2. "
   ]
  },
  {
   "cell_type": "markdown",
   "id": "a129cae6",
   "metadata": {},
   "source": [
    "### Part a"
   ]
  },
  {
   "cell_type": "code",
   "execution_count": 6,
   "id": "5712c2ec-da5b-4dd8-b37e-7fdb0ba7927c",
   "metadata": {
    "id": "5712c2ec-da5b-4dd8-b37e-7fdb0ba7927c"
   },
   "outputs": [],
   "source": [
    "df['Percentage_income'] = ((df['Total_amount']/df['Income'])*100)"
   ]
  },
  {
   "cell_type": "code",
   "execution_count": 7,
   "id": "bd316128",
   "metadata": {},
   "outputs": [
    {
     "data": {
      "text/html": [
       "<div>\n",
       "<style scoped>\n",
       "    .dataframe tbody tr th:only-of-type {\n",
       "        vertical-align: middle;\n",
       "    }\n",
       "\n",
       "    .dataframe tbody tr th {\n",
       "        vertical-align: top;\n",
       "    }\n",
       "\n",
       "    .dataframe thead th {\n",
       "        text-align: right;\n",
       "    }\n",
       "</style>\n",
       "<table border=\"1\" class=\"dataframe\">\n",
       "  <thead>\n",
       "    <tr style=\"text-align: right;\">\n",
       "      <th></th>\n",
       "      <th>Percentage_income</th>\n",
       "    </tr>\n",
       "  </thead>\n",
       "  <tbody>\n",
       "    <tr>\n",
       "      <th>2053</th>\n",
       "      <td>0.192271</td>\n",
       "    </tr>\n",
       "    <tr>\n",
       "      <th>2019</th>\n",
       "      <td>0.072701</td>\n",
       "    </tr>\n",
       "    <tr>\n",
       "      <th>1891</th>\n",
       "      <td>2.339968</td>\n",
       "    </tr>\n",
       "    <tr>\n",
       "      <th>335</th>\n",
       "      <td>1.520803</td>\n",
       "    </tr>\n",
       "    <tr>\n",
       "      <th>1600</th>\n",
       "      <td>1.043775</td>\n",
       "    </tr>\n",
       "  </tbody>\n",
       "</table>\n",
       "</div>"
      ],
      "text/plain": [
       "      Percentage_income\n",
       "2053           0.192271\n",
       "2019           0.072701\n",
       "1891           2.339968\n",
       "335            1.520803\n",
       "1600           1.043775"
      ]
     },
     "execution_count": 7,
     "metadata": {},
     "output_type": "execute_result"
    }
   ],
   "source": [
    "#Answer\n",
    "df[[\"Percentage_income\"]].sample(n=5, random_state=2)"
   ]
  },
  {
   "cell_type": "markdown",
   "id": "62fc5733",
   "metadata": {},
   "source": [
    "### Part b"
   ]
  },
  {
   "cell_type": "code",
   "execution_count": 8,
   "id": "e9d44c2c",
   "metadata": {},
   "outputs": [
    {
     "data": {
      "image/png": "[encoded data removed]",
      "text/plain": [
       "<Figure size 640x480 with 1 Axes>"
      ]
     },
     "metadata": {},
     "output_type": "display_data"
    }
   ],
   "source": [
    "#A function to categorize the marital status\n",
    "def categorize_marital_status(status):\n",
    "    \"\"\"\n",
    "    Categorizes marital status into \"single\", \"married\", \"divorced\", or \"Others\".\n",
    "\n",
    "    Args:\n",
    "    status (str): A string representing the marital status of a customer.\n",
    "\n",
    "    Returns:\n",
    "    A string representing the appropriate category for the marital status. \n",
    "    If the status is \"married\" ,\"single\",\"divorced\",\"together\", \n",
    "    the function returns the same status. If the status is not one of these\n",
    "    three, the function returns \"Others\".\n",
    "    \"\"\"\n",
    "    if status in ['Single','Married', 'Divorced', 'Together']:\n",
    "        return status\n",
    "    else:\n",
    "        return 'Others'\n",
    "df['Marital_Status'] = df['Marital_Status'].apply(categorize_marital_status)\n",
    "\n",
    "#Plotting the pie chart\n",
    "marital_counts = df['Marital_Status'].value_counts()\n",
    "plt.pie(marital_counts, labels=marital_counts.index, autopct='%1.1f%%')\n",
    "plt.title('Marital Status of Customers')\n",
    "plt.show()"
   ]
  },
  {
   "cell_type": "markdown",
   "id": "a584bf3e-01a4-49c3-ad12-18dd420ffa0b",
   "metadata": {
    "id": "a584bf3e-01a4-49c3-ad12-18dd420ffa0b"
   },
   "source": [
    "\n",
    "## Qs 3. "
   ]
  },
  {
   "cell_type": "markdown",
   "id": "8334b6bd",
   "metadata": {
    "id": "1f6c97ed-ff1f-4217-abbd-8ae1fa15f33b"
   },
   "source": [
    "### Part a"
   ]
  },
  {
   "cell_type": "code",
   "execution_count": 9,
   "id": "df783f1e-bd9c-4e14-84d5-22e755b8143d",
   "metadata": {
    "id": "df783f1e-bd9c-4e14-84d5-22e755b8143d"
   },
   "outputs": [
    {
     "data": {
      "text/html": [
       "<div>\n",
       "<style scoped>\n",
       "    .dataframe tbody tr th:only-of-type {\n",
       "        vertical-align: middle;\n",
       "    }\n",
       "\n",
       "    .dataframe tbody tr th {\n",
       "        vertical-align: top;\n",
       "    }\n",
       "\n",
       "    .dataframe thead th {\n",
       "        text-align: right;\n",
       "    }\n",
       "</style>\n",
       "<table border=\"1\" class=\"dataframe\">\n",
       "  <thead>\n",
       "    <tr style=\"text-align: right;\">\n",
       "      <th></th>\n",
       "      <th>Recency(weights)</th>\n",
       "      <th>Recency</th>\n",
       "    </tr>\n",
       "  </thead>\n",
       "  <tbody>\n",
       "    <tr>\n",
       "      <th>2053</th>\n",
       "      <td>4</td>\n",
       "      <td>46</td>\n",
       "    </tr>\n",
       "    <tr>\n",
       "      <th>2019</th>\n",
       "      <td>7</td>\n",
       "      <td>75</td>\n",
       "    </tr>\n",
       "    <tr>\n",
       "      <th>1891</th>\n",
       "      <td>8</td>\n",
       "      <td>87</td>\n",
       "    </tr>\n",
       "    <tr>\n",
       "      <th>335</th>\n",
       "      <td>3</td>\n",
       "      <td>38</td>\n",
       "    </tr>\n",
       "    <tr>\n",
       "      <th>1600</th>\n",
       "      <td>6</td>\n",
       "      <td>64</td>\n",
       "    </tr>\n",
       "  </tbody>\n",
       "</table>\n",
       "</div>"
      ],
      "text/plain": [
       "      Recency(weights)  Recency\n",
       "2053                 4       46\n",
       "2019                 7       75\n",
       "1891                 8       87\n",
       "335                  3       38\n",
       "1600                 6       64"
      ]
     },
     "execution_count": 9,
     "metadata": {},
     "output_type": "execute_result"
    }
   ],
   "source": [
    "df['Recency(weights)'] = pd.qcut(df['Recency'], 10, labels=False)\n",
    "\n",
    "#Answer\n",
    "df[[\"Recency(weights)\", \"Recency\"]].sample(n=5, random_state=2)"
   ]
  },
  {
   "cell_type": "markdown",
   "id": "3df67502",
   "metadata": {},
   "source": [
    "### Part b"
   ]
  },
  {
   "cell_type": "code",
   "execution_count": 10,
   "id": "ac074882",
   "metadata": {},
   "outputs": [
    {
     "name": "stdout",
     "output_type": "stream",
     "text": [
      "27.19% accepted the campaign\n"
     ]
    }
   ],
   "source": [
    "#Creating column to count campaign accepts \n",
    "df['Total_accepts'] = df[['AcceptedCmp5', 'AcceptedCmp4', 'AcceptedCmp3', 'AcceptedCmp2', 'AcceptedCmp1', 'Response']].agg('sum', axis=1)\n",
    "\n",
    "#Counting the customers and accepts greater than one\n",
    "acclen = len(df[df['Total_accepts'].map(lambda x: x >= 1)])\n",
    "cus_count = len(df['ID'])\n",
    "percent_accpt = (acclen/cus_count)*100\n",
    "\n",
    "#Answer\n",
    "print(\"{}% accepted the campaign\".format(round(percent_accpt, 2)))"
   ]
  },
  {
   "cell_type": "markdown",
   "id": "e276adc7-89d9-4e69-8436-9336be6c5304",
   "metadata": {
    "id": "e276adc7-89d9-4e69-8436-9336be6c5304"
   },
   "source": [
    "## Qs 4.  "
   ]
  },
  {
   "cell_type": "markdown",
   "id": "57bdfbea",
   "metadata": {},
   "source": [
    "### Part a"
   ]
  },
  {
   "cell_type": "code",
   "execution_count": 11,
   "id": "b9377e29-13e6-4a91-9120-07eb2d1a1768",
   "metadata": {
    "id": "b9377e29-13e6-4a91-9120-07eb2d1a1768",
    "scrolled": true
   },
   "outputs": [],
   "source": [
    "df[\"Total_purchases\"] = df[['NumDealsPurchases','NumWebPurchases','NumCatalogPurchases','NumStorePurchases']].agg('sum', axis=1)"
   ]
  },
  {
   "cell_type": "markdown",
   "id": "9ef52bef",
   "metadata": {
    "id": "315980f2-d047-4213-ba28-231774b5fb37",
    "scrolled": true
   },
   "source": [
    "### Part b"
   ]
  },
  {
   "cell_type": "code",
   "execution_count": 12,
   "id": "a9f70d7b-4a62-43bd-820a-769e16cbb821",
   "metadata": {
    "id": "a9f70d7b-4a62-43bd-820a-769e16cbb821",
    "scrolled": true
   },
   "outputs": [
    {
     "data": {
      "text/html": [
       "<div>\n",
       "<style scoped>\n",
       "    .dataframe tbody tr th:only-of-type {\n",
       "        vertical-align: middle;\n",
       "    }\n",
       "\n",
       "    .dataframe tbody tr th {\n",
       "        vertical-align: top;\n",
       "    }\n",
       "\n",
       "    .dataframe thead th {\n",
       "        text-align: right;\n",
       "    }\n",
       "</style>\n",
       "<table border=\"1\" class=\"dataframe\">\n",
       "  <thead>\n",
       "    <tr style=\"text-align: right;\">\n",
       "      <th></th>\n",
       "      <th>Total_purchases</th>\n",
       "      <th>Frequency(weights)</th>\n",
       "    </tr>\n",
       "  </thead>\n",
       "  <tbody>\n",
       "    <tr>\n",
       "      <th>2053</th>\n",
       "      <td>8</td>\n",
       "      <td>2</td>\n",
       "    </tr>\n",
       "    <tr>\n",
       "      <th>2019</th>\n",
       "      <td>4</td>\n",
       "      <td>0</td>\n",
       "    </tr>\n",
       "    <tr>\n",
       "      <th>1891</th>\n",
       "      <td>20</td>\n",
       "      <td>6</td>\n",
       "    </tr>\n",
       "    <tr>\n",
       "      <th>335</th>\n",
       "      <td>22</td>\n",
       "      <td>7</td>\n",
       "    </tr>\n",
       "    <tr>\n",
       "      <th>1600</th>\n",
       "      <td>20</td>\n",
       "      <td>6</td>\n",
       "    </tr>\n",
       "  </tbody>\n",
       "</table>\n",
       "</div>"
      ],
      "text/plain": [
       "      Total_purchases  Frequency(weights)\n",
       "2053                8                   2\n",
       "2019                4                   0\n",
       "1891               20                   6\n",
       "335                22                   7\n",
       "1600               20                   6"
      ]
     },
     "execution_count": 12,
     "metadata": {},
     "output_type": "execute_result"
    }
   ],
   "source": [
    "df[\"Frequency(weights)\"] = pd.qcut(df['Total_purchases'], 10, labels=False)\n",
    "\n",
    "#Answer\n",
    "df[[\"Total_purchases\", \"Frequency(weights)\"]].sample(n=5, random_state=2)"
   ]
  },
  {
   "cell_type": "markdown",
   "id": "c9d3492e-3df2-4730-9c79-a5722cfa9180",
   "metadata": {
    "id": "c9d3492e-3df2-4730-9c79-a5722cfa9180"
   },
   "source": [
    "## Qs 5. "
   ]
  },
  {
   "cell_type": "markdown",
   "id": "1d7d4751",
   "metadata": {},
   "source": [
    "### Part a"
   ]
  },
  {
   "cell_type": "code",
   "execution_count": 13,
   "id": "f22fe691-4a97-41d4-8079-3380ef32b6f0",
   "metadata": {
    "id": "f22fe691-4a97-41d4-8079-3380ef32b6f0",
    "scrolled": true
   },
   "outputs": [],
   "source": [
    "df[\"RFM\"] = df[['Recency(weights)','Frequency(weights)','Avg_amount(weights)']].agg('sum', axis=1)"
   ]
  },
  {
   "cell_type": "markdown",
   "id": "4080f0bd",
   "metadata": {},
   "source": [
    "### Part b"
   ]
  },
  {
   "cell_type": "code",
   "execution_count": 14,
   "id": "8ade9e1e-230c-461b-88ea-af063c723c6d",
   "metadata": {
    "id": "8ade9e1e-230c-461b-88ea-af063c723c6d",
    "scrolled": true
   },
   "outputs": [],
   "source": [
    "df[\"Customer_value\"] = pd.qcut(df['RFM'], 3, labels=['low_value','medium_value','high_value'])"
   ]
  },
  {
   "cell_type": "code",
   "execution_count": 15,
   "id": "0d4325ff-9e9f-49ed-9005-318a4814c4e5",
   "metadata": {
    "id": "0d4325ff-9e9f-49ed-9005-318a4814c4e5"
   },
   "outputs": [
    {
     "data": {
      "text/html": [
       "<div>\n",
       "<style scoped>\n",
       "    .dataframe tbody tr th:only-of-type {\n",
       "        vertical-align: middle;\n",
       "    }\n",
       "\n",
       "    .dataframe tbody tr th {\n",
       "        vertical-align: top;\n",
       "    }\n",
       "\n",
       "    .dataframe thead th {\n",
       "        text-align: right;\n",
       "    }\n",
       "</style>\n",
       "<table border=\"1\" class=\"dataframe\">\n",
       "  <thead>\n",
       "    <tr style=\"text-align: right;\">\n",
       "      <th></th>\n",
       "      <th>Recency(weights)</th>\n",
       "      <th>Frequency(weights)</th>\n",
       "      <th>Avg_amount(weights)</th>\n",
       "      <th>RFM</th>\n",
       "      <th>Customer_value</th>\n",
       "    </tr>\n",
       "  </thead>\n",
       "  <tbody>\n",
       "    <tr>\n",
       "      <th>2053</th>\n",
       "      <td>4</td>\n",
       "      <td>2</td>\n",
       "      <td>2</td>\n",
       "      <td>8</td>\n",
       "      <td>low_value</td>\n",
       "    </tr>\n",
       "    <tr>\n",
       "      <th>2019</th>\n",
       "      <td>7</td>\n",
       "      <td>0</td>\n",
       "      <td>0</td>\n",
       "      <td>7</td>\n",
       "      <td>low_value</td>\n",
       "    </tr>\n",
       "    <tr>\n",
       "      <th>1891</th>\n",
       "      <td>8</td>\n",
       "      <td>6</td>\n",
       "      <td>9</td>\n",
       "      <td>23</td>\n",
       "      <td>high_value</td>\n",
       "    </tr>\n",
       "    <tr>\n",
       "      <th>335</th>\n",
       "      <td>3</td>\n",
       "      <td>7</td>\n",
       "      <td>7</td>\n",
       "      <td>17</td>\n",
       "      <td>medium_value</td>\n",
       "    </tr>\n",
       "    <tr>\n",
       "      <th>1600</th>\n",
       "      <td>6</td>\n",
       "      <td>6</td>\n",
       "      <td>5</td>\n",
       "      <td>17</td>\n",
       "      <td>medium_value</td>\n",
       "    </tr>\n",
       "    <tr>\n",
       "      <th>1459</th>\n",
       "      <td>6</td>\n",
       "      <td>6</td>\n",
       "      <td>5</td>\n",
       "      <td>17</td>\n",
       "      <td>medium_value</td>\n",
       "    </tr>\n",
       "    <tr>\n",
       "      <th>2161</th>\n",
       "      <td>7</td>\n",
       "      <td>4</td>\n",
       "      <td>4</td>\n",
       "      <td>15</td>\n",
       "      <td>medium_value</td>\n",
       "    </tr>\n",
       "    <tr>\n",
       "      <th>1026</th>\n",
       "      <td>5</td>\n",
       "      <td>1</td>\n",
       "      <td>3</td>\n",
       "      <td>9</td>\n",
       "      <td>low_value</td>\n",
       "    </tr>\n",
       "    <tr>\n",
       "      <th>68</th>\n",
       "      <td>0</td>\n",
       "      <td>6</td>\n",
       "      <td>6</td>\n",
       "      <td>12</td>\n",
       "      <td>medium_value</td>\n",
       "    </tr>\n",
       "    <tr>\n",
       "      <th>2088</th>\n",
       "      <td>1</td>\n",
       "      <td>2</td>\n",
       "      <td>2</td>\n",
       "      <td>5</td>\n",
       "      <td>low_value</td>\n",
       "    </tr>\n",
       "  </tbody>\n",
       "</table>\n",
       "</div>"
      ],
      "text/plain": [
       "      Recency(weights)  Frequency(weights)  Avg_amount(weights)  RFM  \\\n",
       "2053                 4                   2                    2    8   \n",
       "2019                 7                   0                    0    7   \n",
       "1891                 8                   6                    9   23   \n",
       "335                  3                   7                    7   17   \n",
       "1600                 6                   6                    5   17   \n",
       "1459                 6                   6                    5   17   \n",
       "2161                 7                   4                    4   15   \n",
       "1026                 5                   1                    3    9   \n",
       "68                   0                   6                    6   12   \n",
       "2088                 1                   2                    2    5   \n",
       "\n",
       "     Customer_value  \n",
       "2053      low_value  \n",
       "2019      low_value  \n",
       "1891     high_value  \n",
       "335    medium_value  \n",
       "1600   medium_value  \n",
       "1459   medium_value  \n",
       "2161   medium_value  \n",
       "1026      low_value  \n",
       "68     medium_value  \n",
       "2088      low_value  "
      ]
     },
     "execution_count": 15,
     "metadata": {},
     "output_type": "execute_result"
    }
   ],
   "source": [
    "#Answer\n",
    "df[[\"Recency(weights)\", \"Frequency(weights)\", \"Avg_amount(weights)\", \"RFM\", \"Customer_value\"]].sample(n=10, random_state=2)"
   ]
  }
 ],
 "metadata": {
  "colab": {
   "provenance": []
  },
  "kernelspec": {
   "display_name": "Python 3 (ipykernel)",
   "language": "python",
   "name": "python3"
  },
  "language_info": {
   "codemirror_mode": {
    "name": "ipython",
    "version": 3
   },
   "file_extension": ".py",
   "mimetype": "text/x-python",
   "name": "python",
   "nbconvert_exporter": "python",
   "pygments_lexer": "ipython3",
   "version": "3.9.13"
  }
 },
 "nbformat": 4,
 "nbformat_minor": 5
}
